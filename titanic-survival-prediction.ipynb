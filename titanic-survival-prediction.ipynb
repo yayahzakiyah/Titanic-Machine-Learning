{
 "cells": [
  {
   "cell_type": "markdown",
   "id": "140d6fa6",
   "metadata": {
    "papermill": {
     "duration": 0.030165,
     "end_time": "2021-10-31T02:30:56.516148",
     "exception": false,
     "start_time": "2021-10-31T02:30:56.485983",
     "status": "completed"
    },
    "tags": []
   },
   "source": [
    "****TITANIC SURVIVAL PREDICTION****"
   ]
  },
  {
   "cell_type": "markdown",
   "id": "9aad762d",
   "metadata": {
    "papermill": {
     "duration": 0.028822,
     "end_time": "2021-10-31T02:30:56.574285",
     "exception": false,
     "start_time": "2021-10-31T02:30:56.545463",
     "status": "completed"
    },
    "tags": []
   },
   "source": [
    "The Titanic was a British ferry operated by the White Star Line that sank in the North Atlantic Ocean on April 15, 1912, after hitting an iceberg during its maiden voyage from Southampton to New York City. Of the estimated 2,224 ferries and crew members, more than 15000 died, making the sinking at that time one of the deadliest from that time to the present. With much public attention in the aftermath, the disaster became the material of many works of art and became the basis of the film genre.\n",
    "\n",
    "This dataset consists of 12 columns, namely:\n",
    "1. PassengerId: the unique number of each passenger\n",
    "2. Survive: ferry survives (1) or perishes (0)\n",
    "3. Class P: ferry class\n",
    "4. Name : ferry name\n",
    "5. Gender: passenger gender\n",
    "6. Age: passenger age\n",
    "7. SibSp: number of siblings\n",
    "8. Parch: number of parents/children\n",
    "9. Ticket: ticket number\n",
    "10. Fares: Amount of money used for tickets\n",
    "11. Cabin: cabin category\n",
    "12. Starting: The port where passengers depart (C = Cherbourg, Q = Queenstown, S = Southampton)"
   ]
  },
  {
   "cell_type": "markdown",
   "id": "15bbff5a",
   "metadata": {
    "papermill": {
     "duration": 0.028523,
     "end_time": "2021-10-31T02:30:56.632204",
     "exception": false,
     "start_time": "2021-10-31T02:30:56.603681",
     "status": "completed"
    },
    "tags": []
   },
   "source": [
    "**1) Import Necessary Libraries**"
   ]
  },
  {
   "cell_type": "code",
   "execution_count": 1,
   "id": "5028e386",
   "metadata": {
    "execution": {
     "iopub.execute_input": "2021-10-31T02:30:56.694058Z",
     "iopub.status.busy": "2021-10-31T02:30:56.693001Z",
     "iopub.status.idle": "2021-10-31T02:30:57.539363Z",
     "shell.execute_reply": "2021-10-31T02:30:57.538574Z",
     "shell.execute_reply.started": "2021-10-31T01:23:16.593033Z"
    },
    "papermill": {
     "duration": 0.878093,
     "end_time": "2021-10-31T02:30:57.539519",
     "exception": false,
     "start_time": "2021-10-31T02:30:56.661426",
     "status": "completed"
    },
    "tags": []
   },
   "outputs": [],
   "source": [
    "#Data Analysis Libraries\n",
    "import pandas as pd\n",
    "import numpy as np\n",
    "\n",
    "#Visualization Libraries\n",
    "import matplotlib.pyplot as plt\n",
    "import seaborn as sns\n",
    "%matplotlib inline\n",
    "\n",
    "#Ignore Warnings\n",
    "import warnings\n",
    "warnings.filterwarnings('ignore')"
   ]
  },
  {
   "cell_type": "markdown",
   "id": "0d9323bf",
   "metadata": {
    "papermill": {
     "duration": 0.02899,
     "end_time": "2021-10-31T02:30:57.598527",
     "exception": false,
     "start_time": "2021-10-31T02:30:57.569537",
     "status": "completed"
    },
    "tags": []
   },
   "source": [
    "**2) Read and Explore Dataset**"
   ]
  },
  {
   "cell_type": "code",
   "execution_count": 2,
   "id": "21fd17a5",
   "metadata": {
    "execution": {
     "iopub.execute_input": "2021-10-31T02:30:57.660995Z",
     "iopub.status.busy": "2021-10-31T02:30:57.660020Z",
     "iopub.status.idle": "2021-10-31T02:30:57.688478Z",
     "shell.execute_reply": "2021-10-31T02:30:57.689024Z",
     "shell.execute_reply.started": "2021-10-31T01:27:43.050761Z"
    },
    "papermill": {
     "duration": 0.061446,
     "end_time": "2021-10-31T02:30:57.689201",
     "exception": false,
     "start_time": "2021-10-31T02:30:57.627755",
     "status": "completed"
    },
    "tags": []
   },
   "outputs": [],
   "source": [
    "#Import train and test CSV file\n",
    "train_df = pd.read_csv('../input/titanic/train.csv')\n",
    "test_df = pd.read_csv('../input/titanic/test.csv')"
   ]
  },
  {
   "cell_type": "code",
   "execution_count": 3,
   "id": "6b45ebba",
   "metadata": {
    "execution": {
     "iopub.execute_input": "2021-10-31T02:30:57.751758Z",
     "iopub.status.busy": "2021-10-31T02:30:57.750858Z",
     "iopub.status.idle": "2021-10-31T02:30:57.785018Z",
     "shell.execute_reply": "2021-10-31T02:30:57.785464Z",
     "shell.execute_reply.started": "2021-10-31T01:30:18.974945Z"
    },
    "papermill": {
     "duration": 0.067178,
     "end_time": "2021-10-31T02:30:57.785641",
     "exception": false,
     "start_time": "2021-10-31T02:30:57.718463",
     "status": "completed"
    },
    "tags": []
   },
   "outputs": [
    {
     "data": {
      "text/html": [
       "<div>\n",
       "<style scoped>\n",
       "    .dataframe tbody tr th:only-of-type {\n",
       "        vertical-align: middle;\n",
       "    }\n",
       "\n",
       "    .dataframe tbody tr th {\n",
       "        vertical-align: top;\n",
       "    }\n",
       "\n",
       "    .dataframe thead th {\n",
       "        text-align: right;\n",
       "    }\n",
       "</style>\n",
       "<table border=\"1\" class=\"dataframe\">\n",
       "  <thead>\n",
       "    <tr style=\"text-align: right;\">\n",
       "      <th></th>\n",
       "      <th>PassengerId</th>\n",
       "      <th>Survived</th>\n",
       "      <th>Pclass</th>\n",
       "      <th>Name</th>\n",
       "      <th>Sex</th>\n",
       "      <th>Age</th>\n",
       "      <th>SibSp</th>\n",
       "      <th>Parch</th>\n",
       "      <th>Ticket</th>\n",
       "      <th>Fare</th>\n",
       "      <th>Cabin</th>\n",
       "      <th>Embarked</th>\n",
       "    </tr>\n",
       "  </thead>\n",
       "  <tbody>\n",
       "    <tr>\n",
       "      <th>0</th>\n",
       "      <td>1</td>\n",
       "      <td>0</td>\n",
       "      <td>3</td>\n",
       "      <td>Braund, Mr. Owen Harris</td>\n",
       "      <td>male</td>\n",
       "      <td>22.0</td>\n",
       "      <td>1</td>\n",
       "      <td>0</td>\n",
       "      <td>A/5 21171</td>\n",
       "      <td>7.2500</td>\n",
       "      <td>NaN</td>\n",
       "      <td>S</td>\n",
       "    </tr>\n",
       "    <tr>\n",
       "      <th>1</th>\n",
       "      <td>2</td>\n",
       "      <td>1</td>\n",
       "      <td>1</td>\n",
       "      <td>Cumings, Mrs. John Bradley (Florence Briggs Th...</td>\n",
       "      <td>female</td>\n",
       "      <td>38.0</td>\n",
       "      <td>1</td>\n",
       "      <td>0</td>\n",
       "      <td>PC 17599</td>\n",
       "      <td>71.2833</td>\n",
       "      <td>C85</td>\n",
       "      <td>C</td>\n",
       "    </tr>\n",
       "    <tr>\n",
       "      <th>2</th>\n",
       "      <td>3</td>\n",
       "      <td>1</td>\n",
       "      <td>3</td>\n",
       "      <td>Heikkinen, Miss. Laina</td>\n",
       "      <td>female</td>\n",
       "      <td>26.0</td>\n",
       "      <td>0</td>\n",
       "      <td>0</td>\n",
       "      <td>STON/O2. 3101282</td>\n",
       "      <td>7.9250</td>\n",
       "      <td>NaN</td>\n",
       "      <td>S</td>\n",
       "    </tr>\n",
       "    <tr>\n",
       "      <th>3</th>\n",
       "      <td>4</td>\n",
       "      <td>1</td>\n",
       "      <td>1</td>\n",
       "      <td>Futrelle, Mrs. Jacques Heath (Lily May Peel)</td>\n",
       "      <td>female</td>\n",
       "      <td>35.0</td>\n",
       "      <td>1</td>\n",
       "      <td>0</td>\n",
       "      <td>113803</td>\n",
       "      <td>53.1000</td>\n",
       "      <td>C123</td>\n",
       "      <td>S</td>\n",
       "    </tr>\n",
       "    <tr>\n",
       "      <th>4</th>\n",
       "      <td>5</td>\n",
       "      <td>0</td>\n",
       "      <td>3</td>\n",
       "      <td>Allen, Mr. William Henry</td>\n",
       "      <td>male</td>\n",
       "      <td>35.0</td>\n",
       "      <td>0</td>\n",
       "      <td>0</td>\n",
       "      <td>373450</td>\n",
       "      <td>8.0500</td>\n",
       "      <td>NaN</td>\n",
       "      <td>S</td>\n",
       "    </tr>\n",
       "    <tr>\n",
       "      <th>...</th>\n",
       "      <td>...</td>\n",
       "      <td>...</td>\n",
       "      <td>...</td>\n",
       "      <td>...</td>\n",
       "      <td>...</td>\n",
       "      <td>...</td>\n",
       "      <td>...</td>\n",
       "      <td>...</td>\n",
       "      <td>...</td>\n",
       "      <td>...</td>\n",
       "      <td>...</td>\n",
       "      <td>...</td>\n",
       "    </tr>\n",
       "    <tr>\n",
       "      <th>886</th>\n",
       "      <td>887</td>\n",
       "      <td>0</td>\n",
       "      <td>2</td>\n",
       "      <td>Montvila, Rev. Juozas</td>\n",
       "      <td>male</td>\n",
       "      <td>27.0</td>\n",
       "      <td>0</td>\n",
       "      <td>0</td>\n",
       "      <td>211536</td>\n",
       "      <td>13.0000</td>\n",
       "      <td>NaN</td>\n",
       "      <td>S</td>\n",
       "    </tr>\n",
       "    <tr>\n",
       "      <th>887</th>\n",
       "      <td>888</td>\n",
       "      <td>1</td>\n",
       "      <td>1</td>\n",
       "      <td>Graham, Miss. Margaret Edith</td>\n",
       "      <td>female</td>\n",
       "      <td>19.0</td>\n",
       "      <td>0</td>\n",
       "      <td>0</td>\n",
       "      <td>112053</td>\n",
       "      <td>30.0000</td>\n",
       "      <td>B42</td>\n",
       "      <td>S</td>\n",
       "    </tr>\n",
       "    <tr>\n",
       "      <th>888</th>\n",
       "      <td>889</td>\n",
       "      <td>0</td>\n",
       "      <td>3</td>\n",
       "      <td>Johnston, Miss. Catherine Helen \"Carrie\"</td>\n",
       "      <td>female</td>\n",
       "      <td>NaN</td>\n",
       "      <td>1</td>\n",
       "      <td>2</td>\n",
       "      <td>W./C. 6607</td>\n",
       "      <td>23.4500</td>\n",
       "      <td>NaN</td>\n",
       "      <td>S</td>\n",
       "    </tr>\n",
       "    <tr>\n",
       "      <th>889</th>\n",
       "      <td>890</td>\n",
       "      <td>1</td>\n",
       "      <td>1</td>\n",
       "      <td>Behr, Mr. Karl Howell</td>\n",
       "      <td>male</td>\n",
       "      <td>26.0</td>\n",
       "      <td>0</td>\n",
       "      <td>0</td>\n",
       "      <td>111369</td>\n",
       "      <td>30.0000</td>\n",
       "      <td>C148</td>\n",
       "      <td>C</td>\n",
       "    </tr>\n",
       "    <tr>\n",
       "      <th>890</th>\n",
       "      <td>891</td>\n",
       "      <td>0</td>\n",
       "      <td>3</td>\n",
       "      <td>Dooley, Mr. Patrick</td>\n",
       "      <td>male</td>\n",
       "      <td>32.0</td>\n",
       "      <td>0</td>\n",
       "      <td>0</td>\n",
       "      <td>370376</td>\n",
       "      <td>7.7500</td>\n",
       "      <td>NaN</td>\n",
       "      <td>Q</td>\n",
       "    </tr>\n",
       "  </tbody>\n",
       "</table>\n",
       "<p>891 rows × 12 columns</p>\n",
       "</div>"
      ],
      "text/plain": [
       "     PassengerId  Survived  Pclass  \\\n",
       "0              1         0       3   \n",
       "1              2         1       1   \n",
       "2              3         1       3   \n",
       "3              4         1       1   \n",
       "4              5         0       3   \n",
       "..           ...       ...     ...   \n",
       "886          887         0       2   \n",
       "887          888         1       1   \n",
       "888          889         0       3   \n",
       "889          890         1       1   \n",
       "890          891         0       3   \n",
       "\n",
       "                                                  Name     Sex   Age  SibSp  \\\n",
       "0                              Braund, Mr. Owen Harris    male  22.0      1   \n",
       "1    Cumings, Mrs. John Bradley (Florence Briggs Th...  female  38.0      1   \n",
       "2                               Heikkinen, Miss. Laina  female  26.0      0   \n",
       "3         Futrelle, Mrs. Jacques Heath (Lily May Peel)  female  35.0      1   \n",
       "4                             Allen, Mr. William Henry    male  35.0      0   \n",
       "..                                                 ...     ...   ...    ...   \n",
       "886                              Montvila, Rev. Juozas    male  27.0      0   \n",
       "887                       Graham, Miss. Margaret Edith  female  19.0      0   \n",
       "888           Johnston, Miss. Catherine Helen \"Carrie\"  female   NaN      1   \n",
       "889                              Behr, Mr. Karl Howell    male  26.0      0   \n",
       "890                                Dooley, Mr. Patrick    male  32.0      0   \n",
       "\n",
       "     Parch            Ticket     Fare Cabin Embarked  \n",
       "0        0         A/5 21171   7.2500   NaN        S  \n",
       "1        0          PC 17599  71.2833   C85        C  \n",
       "2        0  STON/O2. 3101282   7.9250   NaN        S  \n",
       "3        0            113803  53.1000  C123        S  \n",
       "4        0            373450   8.0500   NaN        S  \n",
       "..     ...               ...      ...   ...      ...  \n",
       "886      0            211536  13.0000   NaN        S  \n",
       "887      0            112053  30.0000   B42        S  \n",
       "888      2        W./C. 6607  23.4500   NaN        S  \n",
       "889      0            111369  30.0000  C148        C  \n",
       "890      0            370376   7.7500   NaN        Q  \n",
       "\n",
       "[891 rows x 12 columns]"
      ]
     },
     "execution_count": 3,
     "metadata": {},
     "output_type": "execute_result"
    }
   ],
   "source": [
    "#Look training dataset\n",
    "train_df"
   ]
  },
  {
   "cell_type": "markdown",
   "id": "96534679",
   "metadata": {
    "papermill": {
     "duration": 0.088723,
     "end_time": "2021-10-31T02:30:57.905484",
     "exception": false,
     "start_time": "2021-10-31T02:30:57.816761",
     "status": "completed"
    },
    "tags": []
   },
   "source": [
    "**3) Data Analysis**"
   ]
  },
  {
   "cell_type": "code",
   "execution_count": 4,
   "id": "08ae1cc5",
   "metadata": {
    "execution": {
     "iopub.execute_input": "2021-10-31T02:30:57.974721Z",
     "iopub.status.busy": "2021-10-31T02:30:57.969801Z",
     "iopub.status.idle": "2021-10-31T02:30:58.033065Z",
     "shell.execute_reply": "2021-10-31T02:30:58.033686Z",
     "shell.execute_reply.started": "2021-10-31T01:43:27.67023Z"
    },
    "papermill": {
     "duration": 0.098318,
     "end_time": "2021-10-31T02:30:58.033943",
     "exception": false,
     "start_time": "2021-10-31T02:30:57.935625",
     "status": "completed"
    },
    "tags": []
   },
   "outputs": [
    {
     "data": {
      "text/html": [
       "<div>\n",
       "<style scoped>\n",
       "    .dataframe tbody tr th:only-of-type {\n",
       "        vertical-align: middle;\n",
       "    }\n",
       "\n",
       "    .dataframe tbody tr th {\n",
       "        vertical-align: top;\n",
       "    }\n",
       "\n",
       "    .dataframe thead th {\n",
       "        text-align: right;\n",
       "    }\n",
       "</style>\n",
       "<table border=\"1\" class=\"dataframe\">\n",
       "  <thead>\n",
       "    <tr style=\"text-align: right;\">\n",
       "      <th></th>\n",
       "      <th>PassengerId</th>\n",
       "      <th>Survived</th>\n",
       "      <th>Pclass</th>\n",
       "      <th>Name</th>\n",
       "      <th>Sex</th>\n",
       "      <th>Age</th>\n",
       "      <th>SibSp</th>\n",
       "      <th>Parch</th>\n",
       "      <th>Ticket</th>\n",
       "      <th>Fare</th>\n",
       "      <th>Cabin</th>\n",
       "      <th>Embarked</th>\n",
       "    </tr>\n",
       "  </thead>\n",
       "  <tbody>\n",
       "    <tr>\n",
       "      <th>count</th>\n",
       "      <td>891.000000</td>\n",
       "      <td>891.000000</td>\n",
       "      <td>891.000000</td>\n",
       "      <td>891</td>\n",
       "      <td>891</td>\n",
       "      <td>714.000000</td>\n",
       "      <td>891.000000</td>\n",
       "      <td>891.000000</td>\n",
       "      <td>891</td>\n",
       "      <td>891.000000</td>\n",
       "      <td>204</td>\n",
       "      <td>889</td>\n",
       "    </tr>\n",
       "    <tr>\n",
       "      <th>unique</th>\n",
       "      <td>NaN</td>\n",
       "      <td>NaN</td>\n",
       "      <td>NaN</td>\n",
       "      <td>891</td>\n",
       "      <td>2</td>\n",
       "      <td>NaN</td>\n",
       "      <td>NaN</td>\n",
       "      <td>NaN</td>\n",
       "      <td>681</td>\n",
       "      <td>NaN</td>\n",
       "      <td>147</td>\n",
       "      <td>3</td>\n",
       "    </tr>\n",
       "    <tr>\n",
       "      <th>top</th>\n",
       "      <td>NaN</td>\n",
       "      <td>NaN</td>\n",
       "      <td>NaN</td>\n",
       "      <td>Braund, Mr. Owen Harris</td>\n",
       "      <td>male</td>\n",
       "      <td>NaN</td>\n",
       "      <td>NaN</td>\n",
       "      <td>NaN</td>\n",
       "      <td>347082</td>\n",
       "      <td>NaN</td>\n",
       "      <td>B96 B98</td>\n",
       "      <td>S</td>\n",
       "    </tr>\n",
       "    <tr>\n",
       "      <th>freq</th>\n",
       "      <td>NaN</td>\n",
       "      <td>NaN</td>\n",
       "      <td>NaN</td>\n",
       "      <td>1</td>\n",
       "      <td>577</td>\n",
       "      <td>NaN</td>\n",
       "      <td>NaN</td>\n",
       "      <td>NaN</td>\n",
       "      <td>7</td>\n",
       "      <td>NaN</td>\n",
       "      <td>4</td>\n",
       "      <td>644</td>\n",
       "    </tr>\n",
       "    <tr>\n",
       "      <th>mean</th>\n",
       "      <td>446.000000</td>\n",
       "      <td>0.383838</td>\n",
       "      <td>2.308642</td>\n",
       "      <td>NaN</td>\n",
       "      <td>NaN</td>\n",
       "      <td>29.699118</td>\n",
       "      <td>0.523008</td>\n",
       "      <td>0.381594</td>\n",
       "      <td>NaN</td>\n",
       "      <td>32.204208</td>\n",
       "      <td>NaN</td>\n",
       "      <td>NaN</td>\n",
       "    </tr>\n",
       "    <tr>\n",
       "      <th>std</th>\n",
       "      <td>257.353842</td>\n",
       "      <td>0.486592</td>\n",
       "      <td>0.836071</td>\n",
       "      <td>NaN</td>\n",
       "      <td>NaN</td>\n",
       "      <td>14.526497</td>\n",
       "      <td>1.102743</td>\n",
       "      <td>0.806057</td>\n",
       "      <td>NaN</td>\n",
       "      <td>49.693429</td>\n",
       "      <td>NaN</td>\n",
       "      <td>NaN</td>\n",
       "    </tr>\n",
       "    <tr>\n",
       "      <th>min</th>\n",
       "      <td>1.000000</td>\n",
       "      <td>0.000000</td>\n",
       "      <td>1.000000</td>\n",
       "      <td>NaN</td>\n",
       "      <td>NaN</td>\n",
       "      <td>0.420000</td>\n",
       "      <td>0.000000</td>\n",
       "      <td>0.000000</td>\n",
       "      <td>NaN</td>\n",
       "      <td>0.000000</td>\n",
       "      <td>NaN</td>\n",
       "      <td>NaN</td>\n",
       "    </tr>\n",
       "    <tr>\n",
       "      <th>25%</th>\n",
       "      <td>223.500000</td>\n",
       "      <td>0.000000</td>\n",
       "      <td>2.000000</td>\n",
       "      <td>NaN</td>\n",
       "      <td>NaN</td>\n",
       "      <td>20.125000</td>\n",
       "      <td>0.000000</td>\n",
       "      <td>0.000000</td>\n",
       "      <td>NaN</td>\n",
       "      <td>7.910400</td>\n",
       "      <td>NaN</td>\n",
       "      <td>NaN</td>\n",
       "    </tr>\n",
       "    <tr>\n",
       "      <th>50%</th>\n",
       "      <td>446.000000</td>\n",
       "      <td>0.000000</td>\n",
       "      <td>3.000000</td>\n",
       "      <td>NaN</td>\n",
       "      <td>NaN</td>\n",
       "      <td>28.000000</td>\n",
       "      <td>0.000000</td>\n",
       "      <td>0.000000</td>\n",
       "      <td>NaN</td>\n",
       "      <td>14.454200</td>\n",
       "      <td>NaN</td>\n",
       "      <td>NaN</td>\n",
       "    </tr>\n",
       "    <tr>\n",
       "      <th>75%</th>\n",
       "      <td>668.500000</td>\n",
       "      <td>1.000000</td>\n",
       "      <td>3.000000</td>\n",
       "      <td>NaN</td>\n",
       "      <td>NaN</td>\n",
       "      <td>38.000000</td>\n",
       "      <td>1.000000</td>\n",
       "      <td>0.000000</td>\n",
       "      <td>NaN</td>\n",
       "      <td>31.000000</td>\n",
       "      <td>NaN</td>\n",
       "      <td>NaN</td>\n",
       "    </tr>\n",
       "    <tr>\n",
       "      <th>max</th>\n",
       "      <td>891.000000</td>\n",
       "      <td>1.000000</td>\n",
       "      <td>3.000000</td>\n",
       "      <td>NaN</td>\n",
       "      <td>NaN</td>\n",
       "      <td>80.000000</td>\n",
       "      <td>8.000000</td>\n",
       "      <td>6.000000</td>\n",
       "      <td>NaN</td>\n",
       "      <td>512.329200</td>\n",
       "      <td>NaN</td>\n",
       "      <td>NaN</td>\n",
       "    </tr>\n",
       "  </tbody>\n",
       "</table>\n",
       "</div>"
      ],
      "text/plain": [
       "        PassengerId    Survived      Pclass                     Name   Sex  \\\n",
       "count    891.000000  891.000000  891.000000                      891   891   \n",
       "unique          NaN         NaN         NaN                      891     2   \n",
       "top             NaN         NaN         NaN  Braund, Mr. Owen Harris  male   \n",
       "freq            NaN         NaN         NaN                        1   577   \n",
       "mean     446.000000    0.383838    2.308642                      NaN   NaN   \n",
       "std      257.353842    0.486592    0.836071                      NaN   NaN   \n",
       "min        1.000000    0.000000    1.000000                      NaN   NaN   \n",
       "25%      223.500000    0.000000    2.000000                      NaN   NaN   \n",
       "50%      446.000000    0.000000    3.000000                      NaN   NaN   \n",
       "75%      668.500000    1.000000    3.000000                      NaN   NaN   \n",
       "max      891.000000    1.000000    3.000000                      NaN   NaN   \n",
       "\n",
       "               Age       SibSp       Parch  Ticket        Fare    Cabin  \\\n",
       "count   714.000000  891.000000  891.000000     891  891.000000      204   \n",
       "unique         NaN         NaN         NaN     681         NaN      147   \n",
       "top            NaN         NaN         NaN  347082         NaN  B96 B98   \n",
       "freq           NaN         NaN         NaN       7         NaN        4   \n",
       "mean     29.699118    0.523008    0.381594     NaN   32.204208      NaN   \n",
       "std      14.526497    1.102743    0.806057     NaN   49.693429      NaN   \n",
       "min       0.420000    0.000000    0.000000     NaN    0.000000      NaN   \n",
       "25%      20.125000    0.000000    0.000000     NaN    7.910400      NaN   \n",
       "50%      28.000000    0.000000    0.000000     NaN   14.454200      NaN   \n",
       "75%      38.000000    1.000000    0.000000     NaN   31.000000      NaN   \n",
       "max      80.000000    8.000000    6.000000     NaN  512.329200      NaN   \n",
       "\n",
       "       Embarked  \n",
       "count       889  \n",
       "unique        3  \n",
       "top           S  \n",
       "freq        644  \n",
       "mean        NaN  \n",
       "std         NaN  \n",
       "min         NaN  \n",
       "25%         NaN  \n",
       "50%         NaN  \n",
       "75%         NaN  \n",
       "max         NaN  "
      ]
     },
     "execution_count": 4,
     "metadata": {},
     "output_type": "execute_result"
    }
   ],
   "source": [
    "#Look statistics describe training dataset\n",
    "train_df.describe(include = \"all\")"
   ]
  },
  {
   "cell_type": "code",
   "execution_count": 5,
   "id": "e2a6fa6e",
   "metadata": {
    "execution": {
     "iopub.execute_input": "2021-10-31T02:30:58.102380Z",
     "iopub.status.busy": "2021-10-31T02:30:58.101749Z",
     "iopub.status.idle": "2021-10-31T02:30:58.115129Z",
     "shell.execute_reply": "2021-10-31T02:30:58.115719Z",
     "shell.execute_reply.started": "2021-10-31T01:32:17.676288Z"
    },
    "papermill": {
     "duration": 0.047452,
     "end_time": "2021-10-31T02:30:58.115909",
     "exception": false,
     "start_time": "2021-10-31T02:30:58.068457",
     "status": "completed"
    },
    "tags": []
   },
   "outputs": [
    {
     "name": "stdout",
     "output_type": "stream",
     "text": [
      "<class 'pandas.core.frame.DataFrame'>\n",
      "RangeIndex: 891 entries, 0 to 890\n",
      "Data columns (total 12 columns):\n",
      " #   Column       Non-Null Count  Dtype  \n",
      "---  ------       --------------  -----  \n",
      " 0   PassengerId  891 non-null    int64  \n",
      " 1   Survived     891 non-null    int64  \n",
      " 2   Pclass       891 non-null    int64  \n",
      " 3   Name         891 non-null    object \n",
      " 4   Sex          891 non-null    object \n",
      " 5   Age          714 non-null    float64\n",
      " 6   SibSp        891 non-null    int64  \n",
      " 7   Parch        891 non-null    int64  \n",
      " 8   Ticket       891 non-null    object \n",
      " 9   Fare         891 non-null    float64\n",
      " 10  Cabin        204 non-null    object \n",
      " 11  Embarked     889 non-null    object \n",
      "dtypes: float64(2), int64(5), object(5)\n",
      "memory usage: 83.7+ KB\n"
     ]
    }
   ],
   "source": [
    "#To find out the data type\n",
    "train_df.info()"
   ]
  },
  {
   "cell_type": "markdown",
   "id": "ea3cc317",
   "metadata": {
    "papermill": {
     "duration": 0.03087,
     "end_time": "2021-10-31T02:30:58.178092",
     "exception": false,
     "start_time": "2021-10-31T02:30:58.147222",
     "status": "completed"
    },
    "tags": []
   },
   "source": [
    "From the information above we know\n",
    "*   Categorical Variables: Survived(integer), Sex(string), Pclass(integer), Embarked(string)\n",
    "*   Numerical Variables: Age(float), Fare(float), Sibsp(integer), dan Parch(integer)\n",
    "*   Unique Variables: PassengerId(string), Name(string), Ticket(string), Cabin(string)\n"
   ]
  },
  {
   "cell_type": "code",
   "execution_count": 6,
   "id": "23a67d9b",
   "metadata": {
    "execution": {
     "iopub.execute_input": "2021-10-31T02:30:58.244433Z",
     "iopub.status.busy": "2021-10-31T02:30:58.243856Z",
     "iopub.status.idle": "2021-10-31T02:30:58.251099Z",
     "shell.execute_reply": "2021-10-31T02:30:58.251597Z",
     "shell.execute_reply.started": "2021-10-31T01:34:41.179348Z"
    },
    "papermill": {
     "duration": 0.042052,
     "end_time": "2021-10-31T02:30:58.251789",
     "exception": false,
     "start_time": "2021-10-31T02:30:58.209737",
     "status": "completed"
    },
    "tags": []
   },
   "outputs": [
    {
     "data": {
      "text/plain": [
       "PassengerId      0\n",
       "Survived         0\n",
       "Pclass           0\n",
       "Name             0\n",
       "Sex              0\n",
       "Age            177\n",
       "SibSp            0\n",
       "Parch            0\n",
       "Ticket           0\n",
       "Fare             0\n",
       "Cabin          687\n",
       "Embarked         2\n",
       "dtype: int64"
      ]
     },
     "execution_count": 6,
     "metadata": {},
     "output_type": "execute_result"
    }
   ],
   "source": [
    "#To know missing value train dataset\n",
    "train_df.isna().sum()"
   ]
  },
  {
   "cell_type": "code",
   "execution_count": 7,
   "id": "0761878f",
   "metadata": {
    "execution": {
     "iopub.execute_input": "2021-10-31T02:30:58.319338Z",
     "iopub.status.busy": "2021-10-31T02:30:58.318749Z",
     "iopub.status.idle": "2021-10-31T02:30:58.332374Z",
     "shell.execute_reply": "2021-10-31T02:30:58.331773Z",
     "shell.execute_reply.started": "2021-10-31T01:35:20.470896Z"
    },
    "papermill": {
     "duration": 0.048492,
     "end_time": "2021-10-31T02:30:58.332506",
     "exception": false,
     "start_time": "2021-10-31T02:30:58.284014",
     "status": "completed"
    },
    "tags": []
   },
   "outputs": [
    {
     "name": "stdout",
     "output_type": "stream",
     "text": [
      "Age \n",
      "24.00    30\n",
      "22.00    27\n",
      "18.00    26\n",
      "19.00    25\n",
      "28.00    25\n",
      "         ..\n",
      "36.50     1\n",
      "55.50     1\n",
      "0.92      1\n",
      "23.50     1\n",
      "74.00     1\n",
      "Name: Age, Length: 88, dtype: int64 \n",
      "\n",
      "Fare \n",
      "8.0500     43\n",
      "13.0000    42\n",
      "7.8958     38\n",
      "7.7500     34\n",
      "26.0000    31\n",
      "           ..\n",
      "35.0000     1\n",
      "28.5000     1\n",
      "6.2375      1\n",
      "14.0000     1\n",
      "10.5167     1\n",
      "Name: Fare, Length: 248, dtype: int64 \n",
      "\n",
      "SibSp \n",
      "0    608\n",
      "1    209\n",
      "2     28\n",
      "4     18\n",
      "3     16\n",
      "8      7\n",
      "5      5\n",
      "Name: SibSp, dtype: int64 \n",
      "\n",
      "Parch \n",
      "0    678\n",
      "1    118\n",
      "2     80\n",
      "5      5\n",
      "3      5\n",
      "4      4\n",
      "6      1\n",
      "Name: Parch, dtype: int64 \n",
      "\n"
     ]
    }
   ],
   "source": [
    "#Get a count of the number of numerical variables\n",
    "def numbernumerical(variable):\n",
    "   var = train_df[variable]\n",
    "   varValue = var.value_counts()\n",
    "\n",
    "   print('{} \\n{} \\n'.format(variable, varValue))\n",
    "\n",
    "numerical = ['Age', 'Fare', 'SibSp', 'Parch']\n",
    "for i in numerical:\n",
    "  numbernumerical(i)"
   ]
  },
  {
   "cell_type": "code",
   "execution_count": 8,
   "id": "8dbf293a",
   "metadata": {
    "execution": {
     "iopub.execute_input": "2021-10-31T02:30:58.398758Z",
     "iopub.status.busy": "2021-10-31T02:30:58.398103Z",
     "iopub.status.idle": "2021-10-31T02:30:58.412342Z",
     "shell.execute_reply": "2021-10-31T02:30:58.413290Z",
     "shell.execute_reply.started": "2021-10-31T01:35:49.583081Z"
    },
    "papermill": {
     "duration": 0.049494,
     "end_time": "2021-10-31T02:30:58.413587",
     "exception": false,
     "start_time": "2021-10-31T02:30:58.364093",
     "status": "completed"
    },
    "tags": []
   },
   "outputs": [
    {
     "name": "stdout",
     "output_type": "stream",
     "text": [
      "0          Student\n",
      "1            Adult\n",
      "2      Young Adult\n",
      "3      Young Adult\n",
      "4      Young Adult\n",
      "          ...     \n",
      "886    Young Adult\n",
      "887        Student\n",
      "888        Unknown\n",
      "889    Young Adult\n",
      "890    Young Adult\n",
      "Name: AgeGroup, Length: 891, dtype: category\n",
      "Categories (8, object): ['Unknown' < 'Baby' < 'Child' < 'Teenager' < 'Student' < 'Young Adult' < 'Adult' < 'Senior']\n"
     ]
    }
   ],
   "source": [
    "#Sort the ages into logical categories\n",
    "train_df[\"Age\"] = train_df[\"Age\"].fillna(-0.5)\n",
    "test_df[\"Age\"] = test_df[\"Age\"].fillna(-0.5)\n",
    "bins = [-1, 0, 5, 12, 18, 24, 35, 60, np.inf]\n",
    "labels = ['Unknown', 'Baby', 'Child', 'Teenager', 'Student', 'Young Adult', 'Adult', 'Senior']\n",
    "train_df['AgeGroup'] = pd.cut(train_df[\"Age\"], bins, labels = labels)\n",
    "test_df['AgeGroup'] = pd.cut(test_df[\"Age\"], bins, labels = labels)\n",
    "\n",
    "print(train_df['AgeGroup'])"
   ]
  },
  {
   "cell_type": "code",
   "execution_count": 9,
   "id": "86a03710",
   "metadata": {
    "execution": {
     "iopub.execute_input": "2021-10-31T02:30:58.496297Z",
     "iopub.status.busy": "2021-10-31T02:30:58.495650Z",
     "iopub.status.idle": "2021-10-31T02:30:58.505861Z",
     "shell.execute_reply": "2021-10-31T02:30:58.506695Z",
     "shell.execute_reply.started": "2021-10-31T01:36:19.589971Z"
    },
    "papermill": {
     "duration": 0.051536,
     "end_time": "2021-10-31T02:30:58.506919",
     "exception": false,
     "start_time": "2021-10-31T02:30:58.455383",
     "status": "completed"
    },
    "tags": []
   },
   "outputs": [
    {
     "name": "stdout",
     "output_type": "stream",
     "text": [
      "Survived \n",
      "0    549\n",
      "1    342\n",
      "Name: Survived, dtype: int64 \n",
      "\n",
      "AgeGroup \n",
      "Young Adult    220\n",
      "Adult          195\n",
      "Unknown        177\n",
      "Student        138\n",
      "Teenager        70\n",
      "Baby            44\n",
      "Child           25\n",
      "Senior          22\n",
      "Name: AgeGroup, dtype: int64 \n",
      "\n",
      "Sex \n",
      "male      577\n",
      "female    314\n",
      "Name: Sex, dtype: int64 \n",
      "\n",
      "Pclass \n",
      "3    491\n",
      "1    216\n",
      "2    184\n",
      "Name: Pclass, dtype: int64 \n",
      "\n",
      "Embarked \n",
      "S    644\n",
      "C    168\n",
      "Q     77\n",
      "Name: Embarked, dtype: int64 \n",
      "\n"
     ]
    }
   ],
   "source": [
    "#Get a count of the number of categorical variables\n",
    "def numbercategorical(variable):\n",
    "   var = train_df[variable]\n",
    "   varValue = var.value_counts()\n",
    "\n",
    "   print('{} \\n{} \\n'.format(variable, varValue))\n",
    "\n",
    "category = ['Survived', 'AgeGroup', 'Sex', 'Pclass', 'Embarked']\n",
    "for i in category:\n",
    "  numbercategorical(i)"
   ]
  },
  {
   "cell_type": "code",
   "execution_count": 10,
   "id": "b3899b1a",
   "metadata": {
    "execution": {
     "iopub.execute_input": "2021-10-31T02:30:58.580454Z",
     "iopub.status.busy": "2021-10-31T02:30:58.579853Z",
     "iopub.status.idle": "2021-10-31T02:30:58.589164Z",
     "shell.execute_reply": "2021-10-31T02:30:58.589684Z",
     "shell.execute_reply.started": "2021-10-31T01:36:45.755769Z"
    },
    "papermill": {
     "duration": 0.04552,
     "end_time": "2021-10-31T02:30:58.589862",
     "exception": false,
     "start_time": "2021-10-31T02:30:58.544342",
     "status": "completed"
    },
    "tags": []
   },
   "outputs": [
    {
     "name": "stdout",
     "output_type": "stream",
     "text": [
      "Ticket \n",
      "347082      7\n",
      "CA. 2343    7\n",
      "1601        7\n",
      "3101295     6\n",
      "CA 2144     6\n",
      "           ..\n",
      "9234        1\n",
      "19988       1\n",
      "2693        1\n",
      "PC 17612    1\n",
      "370376      1\n",
      "Name: Ticket, Length: 681, dtype: int64 \n",
      "\n",
      "Cabin \n",
      "B96 B98        4\n",
      "G6             4\n",
      "C23 C25 C27    4\n",
      "C22 C26        3\n",
      "F33            3\n",
      "              ..\n",
      "E34            1\n",
      "C7             1\n",
      "C54            1\n",
      "E36            1\n",
      "C148           1\n",
      "Name: Cabin, Length: 147, dtype: int64 \n",
      "\n"
     ]
    }
   ],
   "source": [
    "#Get a count of the number of numerical variables\n",
    "def numberalphanumeric(variable):\n",
    "   var = train_df[variable]\n",
    "   varValue = var.value_counts()\n",
    "\n",
    "   print('{} \\n{} \\n'.format(variable, varValue))\n",
    "\n",
    "alphanumeric = ['Ticket', 'Cabin']\n",
    "for i in alphanumeric:\n",
    "  numberalphanumeric(i)"
   ]
  },
  {
   "cell_type": "markdown",
   "id": "29568533",
   "metadata": {
    "papermill": {
     "duration": 0.035753,
     "end_time": "2021-10-31T02:30:58.661171",
     "exception": false,
     "start_time": "2021-10-31T02:30:58.625418",
     "status": "completed"
    },
    "tags": []
   },
   "source": [
    "Some Observations:\n",
    "- There were a total of 891 passengers in our training set and many who did not survive\n",
    "- The Age variable lost about 19.8% of its value. I did age grouping so that sufficient missing values would be compared with the title names.\n",
    "- The Cabin Variable lost about 77.1% of its value. Because so many variables are missing, it will be difficult to fill in the missing values. We will probably remove these values from our dataset.\n",
    "- The Embarked Variable lost 0.22% of its value, which should be relatively harmless. Will be filled with the mode.\n",
    "- The Variable Fare will be transformed by labeling the contents of the data"
   ]
  },
  {
   "cell_type": "markdown",
   "id": "a49fb90d",
   "metadata": {
    "papermill": {
     "duration": 0.033382,
     "end_time": "2021-10-31T02:30:58.727913",
     "exception": false,
     "start_time": "2021-10-31T02:30:58.694531",
     "status": "completed"
    },
    "tags": []
   },
   "source": [
    "**4. Visualization**"
   ]
  },
  {
   "cell_type": "code",
   "execution_count": 11,
   "id": "44d76878",
   "metadata": {
    "execution": {
     "iopub.execute_input": "2021-10-31T02:30:58.805209Z",
     "iopub.status.busy": "2021-10-31T02:30:58.804362Z",
     "iopub.status.idle": "2021-10-31T02:30:59.017170Z",
     "shell.execute_reply": "2021-10-31T02:30:59.016632Z",
     "shell.execute_reply.started": "2021-10-31T01:44:37.164365Z"
    },
    "papermill": {
     "duration": 0.249497,
     "end_time": "2021-10-31T02:30:59.017319",
     "exception": false,
     "start_time": "2021-10-31T02:30:58.767822",
     "status": "completed"
    },
    "tags": []
   },
   "outputs": [
    {
     "data": {
      "text/plain": [
       "<function print>"
      ]
     },
     "execution_count": 11,
     "metadata": {},
     "output_type": "execute_result"
    },
    {
     "data": {
      "image/png": "[encoded data removed]",
      "text/plain": [
       "<Figure size 432x288 with 1 Axes>"
      ]
     },
     "metadata": {
      "needs_background": "light"
     },
     "output_type": "display_data"
    }
   ],
   "source": [
    "#Visualize the count of survivors\n",
    "sns.countplot(train_df['Survived'])\n",
    "\n",
    "print"
   ]
  },
  {
   "cell_type": "code",
   "execution_count": 12,
   "id": "f4f7aa45",
   "metadata": {
    "execution": {
     "iopub.execute_input": "2021-10-31T02:30:59.234555Z",
     "iopub.status.busy": "2021-10-31T02:30:59.215060Z",
     "iopub.status.idle": "2021-10-31T02:31:00.471527Z",
     "shell.execute_reply": "2021-10-31T02:31:00.470986Z",
     "shell.execute_reply.started": "2021-10-31T01:44:53.786263Z"
    },
    "papermill": {
     "duration": 1.420433,
     "end_time": "2021-10-31T02:31:00.471693",
     "exception": false,
     "start_time": "2021-10-31T02:30:59.051260",
     "status": "completed"
    },
    "tags": []
   },
   "outputs": [
    {
     "data": {
      "image/png": "[encoded data removed]",
      "text/plain": [
       "<Figure size 1296x864 with 6 Axes>"
      ]
     },
     "metadata": {
      "needs_background": "light"
     },
     "output_type": "display_data"
    }
   ],
   "source": [
    "#Visualize the count of survivors for columns 'Sex', 'Pclass', 'SibSp', 'Parch', 'Embarked'\n",
    "cols = ['Sex', 'Pclass', 'SibSp', 'Parch', 'Embarked', 'AgeGroup']\n",
    "\n",
    "n_rows = 2\n",
    "n_cols = 3\n",
    "\n",
    "#The subplot grid and figure size of each graph\n",
    "fig, axs = plt.subplots(n_rows, n_cols, figsize = (n_cols * 6, n_rows * 6) )\n",
    "\n",
    "for r in range(0, n_rows):\n",
    "  for c in range(0, n_cols):\n",
    "\n",
    "    i = r*n_cols + c #index to go through the number of columns\n",
    "    ax = axs[r][c] #show where position each sub plot\n",
    "    sns.countplot(train_df[cols[i]], hue= train_df['Survived'], ax=ax)\n",
    "    ax.set_title(cols[i])\n",
    "    ax.legend(title=\"Survived\", loc = 'upper right')\n",
    "\n",
    "plt.tight_layout()"
   ]
  },
  {
   "cell_type": "code",
   "execution_count": 13,
   "id": "9373326d",
   "metadata": {
    "execution": {
     "iopub.execute_input": "2021-10-31T02:31:00.562374Z",
     "iopub.status.busy": "2021-10-31T02:31:00.552883Z",
     "iopub.status.idle": "2021-10-31T02:31:00.788124Z",
     "shell.execute_reply": "2021-10-31T02:31:00.787014Z",
     "shell.execute_reply.started": "2021-10-31T01:45:19.948386Z"
    },
    "papermill": {
     "duration": 0.28131,
     "end_time": "2021-10-31T02:31:00.788297",
     "exception": false,
     "start_time": "2021-10-31T02:31:00.506987",
     "status": "completed"
    },
    "tags": []
   },
   "outputs": [
    {
     "data": {
      "image/png": "[encoded data removed]",
      "text/plain": [
       "<Figure size 432x288 with 1 Axes>"
      ]
     },
     "metadata": {
      "needs_background": "light"
     },
     "output_type": "display_data"
    }
   ],
   "source": [
    "#Plot the prices paid of each class\n",
    "plt.scatter(train_df[\"Fare\"], train_df['Pclass'], color = 'green', label='Passenger Paid')\n",
    "plt.ylabel('Class')\n",
    "plt.xlabel('Price / Fare')\n",
    "plt.title('Price of Each Class')\n",
    "plt.legend()\n",
    "plt.show()"
   ]
  },
  {
   "cell_type": "code",
   "execution_count": 14,
   "id": "9890c8ff",
   "metadata": {
    "execution": {
     "iopub.execute_input": "2021-10-31T02:31:00.865299Z",
     "iopub.status.busy": "2021-10-31T02:31:00.864301Z",
     "iopub.status.idle": "2021-10-31T02:31:00.900416Z",
     "shell.execute_reply": "2021-10-31T02:31:00.901027Z",
     "shell.execute_reply.started": "2021-10-31T01:47:34.346011Z"
    },
    "papermill": {
     "duration": 0.075972,
     "end_time": "2021-10-31T02:31:00.901206",
     "exception": false,
     "start_time": "2021-10-31T02:31:00.825234",
     "status": "completed"
    },
    "tags": []
   },
   "outputs": [
    {
     "name": "stdout",
     "output_type": "stream",
     "text": [
      "Percentage of Sex who survived \n",
      "       Sex  Survived\n",
      "0  female  0.742038\n",
      "1    male  0.188908 \n",
      "\n",
      "Percentage of Pclass who survived \n",
      "    Pclass  Survived\n",
      "0       1  0.629630\n",
      "1       2  0.472826\n",
      "2       3  0.242363 \n",
      "\n",
      "Percentage of SibSp who survived \n",
      "    SibSp  Survived\n",
      "1      1  0.535885\n",
      "2      2  0.464286\n",
      "0      0  0.345395\n",
      "3      3  0.250000\n",
      "4      4  0.166667\n",
      "5      5  0.000000\n",
      "6      8  0.000000 \n",
      "\n",
      "Percentage of Parch who survived \n",
      "    Parch  Survived\n",
      "3      3  0.600000\n",
      "1      1  0.550847\n",
      "2      2  0.500000\n",
      "0      0  0.343658\n",
      "5      5  0.200000\n",
      "4      4  0.000000\n",
      "6      6  0.000000 \n",
      "\n",
      "Percentage of Embarked who survived \n",
      "   Embarked  Survived\n",
      "0        C  0.553571\n",
      "1        Q  0.389610\n",
      "2        S  0.336957 \n",
      "\n",
      "Percentage of AgeGroup who survived \n",
      "       AgeGroup  Survived\n",
      "1         Baby  0.704545\n",
      "3     Teenager  0.428571\n",
      "5  Young Adult  0.404545\n",
      "6        Adult  0.400000\n",
      "2        Child  0.360000\n",
      "4      Student  0.347826\n",
      "0      Unknown  0.293785\n",
      "7       Senior  0.227273 \n",
      "\n"
     ]
    }
   ],
   "source": [
    "#Print percentage of survival by column Sex, Pclass, SibSp, Parch, Embarked, AgeGroup\n",
    "def mean(variable):\n",
    "   var = train_df[[variable,'Survived']].groupby(variable, as_index = False)\n",
    "   mean = var.mean().sort_values(by='Survived', ascending = False)\n",
    "\n",
    "   print('Percentage of {} who survived \\n {} \\n'.format(variable, mean))\n",
    "\n",
    "cols = ['Sex', 'Pclass', 'SibSp', 'Parch', 'Embarked', 'AgeGroup']\n",
    "for i in cols:\n",
    "  mean(i)"
   ]
  },
  {
   "cell_type": "code",
   "execution_count": 15,
   "id": "0c6078b8",
   "metadata": {
    "execution": {
     "iopub.execute_input": "2021-10-31T02:31:00.977750Z",
     "iopub.status.busy": "2021-10-31T02:31:00.976784Z",
     "iopub.status.idle": "2021-10-31T02:31:02.604040Z",
     "shell.execute_reply": "2021-10-31T02:31:02.604595Z",
     "shell.execute_reply.started": "2021-10-31T01:48:54.355687Z"
    },
    "papermill": {
     "duration": 1.666806,
     "end_time": "2021-10-31T02:31:02.604786",
     "exception": false,
     "start_time": "2021-10-31T02:31:00.937980",
     "status": "completed"
    },
    "tags": []
   },
   "outputs": [
    {
     "data": {
      "image/png": "[encoded data removed]",
      "text/plain": [
       "<Figure size 1296x864 with 6 Axes>"
      ]
     },
     "metadata": {
      "needs_background": "light"
     },
     "output_type": "display_data"
    }
   ],
   "source": [
    "#Draw a bar plot of survival by column Sex, Pclass, SibSp, Parch, Embarked, AgeGroup\n",
    "cols = ['Sex', 'Pclass', 'SibSp', 'Parch', 'Embarked', 'AgeGroup']\n",
    "\n",
    "n_rows = 2\n",
    "n_cols = 3\n",
    "\n",
    "#The subplot grid and figure size of each graph\n",
    "fig, axs = plt.subplots(n_rows, n_cols, figsize = (n_cols * 6, n_rows * 6) )\n",
    "\n",
    "for r in range(0, n_rows):\n",
    "  for c in range(0, n_cols):\n",
    "\n",
    "    i = r*n_cols + c #index to go through the number of columns\n",
    "    ax = axs[r][c] #show where position each sub plot\n",
    "    sns.barplot(x=train_df[cols[i]], y=train_df[\"Survived\"], data=train_df, ax=ax)\n",
    "    ax.set_title(cols[i])\n",
    "    \n",
    "plt.tight_layout()"
   ]
  },
  {
   "cell_type": "markdown",
   "id": "31fb1153",
   "metadata": {
    "papermill": {
     "duration": 0.036266,
     "end_time": "2021-10-31T02:31:02.678082",
     "exception": false,
     "start_time": "2021-10-31T02:31:02.641816",
     "status": "completed"
    },
    "tags": []
   },
   "source": [
    "As prediction\n",
    "- Female have a much higher chance of survival than men. The Sex feature is very important in our predictions.\n",
    "- People with higher socioeconomic class have a higher survival rate\n",
    "- In general, it is clear that people with more siblings or partners are less likely to survive. However, contrary to expectations, people without siblings or partners were less likely to survive than those with one or two people.\n",
    "- People with less than four parents or children on board are more likely to survive than those with four or more parents. Again, people who travel alone are less likely to survive than those with 1-3 parents or children.\n",
    "- Babies are more likely to survive than other age groups."
   ]
  },
  {
   "cell_type": "markdown",
   "id": "36d41231",
   "metadata": {
    "papermill": {
     "duration": 0.036835,
     "end_time": "2021-10-31T02:31:02.752166",
     "exception": false,
     "start_time": "2021-10-31T02:31:02.715331",
     "status": "completed"
    },
    "tags": []
   },
   "source": [
    "**6. Cleaning Data**"
   ]
  },
  {
   "cell_type": "code",
   "execution_count": 16,
   "id": "4ff7f433",
   "metadata": {
    "execution": {
     "iopub.execute_input": "2021-10-31T02:31:02.833543Z",
     "iopub.status.busy": "2021-10-31T02:31:02.832495Z",
     "iopub.status.idle": "2021-10-31T02:31:02.867909Z",
     "shell.execute_reply": "2021-10-31T02:31:02.867370Z",
     "shell.execute_reply.started": "2021-10-31T01:58:17.420321Z"
    },
    "papermill": {
     "duration": 0.078862,
     "end_time": "2021-10-31T02:31:02.868059",
     "exception": false,
     "start_time": "2021-10-31T02:31:02.789197",
     "status": "completed"
    },
    "tags": []
   },
   "outputs": [
    {
     "data": {
      "text/html": [
       "<div>\n",
       "<style scoped>\n",
       "    .dataframe tbody tr th:only-of-type {\n",
       "        vertical-align: middle;\n",
       "    }\n",
       "\n",
       "    .dataframe tbody tr th {\n",
       "        vertical-align: top;\n",
       "    }\n",
       "\n",
       "    .dataframe thead th {\n",
       "        text-align: right;\n",
       "    }\n",
       "</style>\n",
       "<table border=\"1\" class=\"dataframe\">\n",
       "  <thead>\n",
       "    <tr style=\"text-align: right;\">\n",
       "      <th></th>\n",
       "      <th>PassengerId</th>\n",
       "      <th>Pclass</th>\n",
       "      <th>Name</th>\n",
       "      <th>Sex</th>\n",
       "      <th>Age</th>\n",
       "      <th>SibSp</th>\n",
       "      <th>Parch</th>\n",
       "      <th>Ticket</th>\n",
       "      <th>Fare</th>\n",
       "      <th>Cabin</th>\n",
       "      <th>Embarked</th>\n",
       "      <th>AgeGroup</th>\n",
       "    </tr>\n",
       "  </thead>\n",
       "  <tbody>\n",
       "    <tr>\n",
       "      <th>count</th>\n",
       "      <td>418.000000</td>\n",
       "      <td>418.000000</td>\n",
       "      <td>418</td>\n",
       "      <td>418</td>\n",
       "      <td>418.000000</td>\n",
       "      <td>418.000000</td>\n",
       "      <td>418.000000</td>\n",
       "      <td>418</td>\n",
       "      <td>417.000000</td>\n",
       "      <td>91</td>\n",
       "      <td>418</td>\n",
       "      <td>418</td>\n",
       "    </tr>\n",
       "    <tr>\n",
       "      <th>unique</th>\n",
       "      <td>NaN</td>\n",
       "      <td>NaN</td>\n",
       "      <td>418</td>\n",
       "      <td>2</td>\n",
       "      <td>NaN</td>\n",
       "      <td>NaN</td>\n",
       "      <td>NaN</td>\n",
       "      <td>363</td>\n",
       "      <td>NaN</td>\n",
       "      <td>76</td>\n",
       "      <td>3</td>\n",
       "      <td>8</td>\n",
       "    </tr>\n",
       "    <tr>\n",
       "      <th>top</th>\n",
       "      <td>NaN</td>\n",
       "      <td>NaN</td>\n",
       "      <td>Kelly, Mr. James</td>\n",
       "      <td>male</td>\n",
       "      <td>NaN</td>\n",
       "      <td>NaN</td>\n",
       "      <td>NaN</td>\n",
       "      <td>PC 17608</td>\n",
       "      <td>NaN</td>\n",
       "      <td>B57 B59 B63 B66</td>\n",
       "      <td>S</td>\n",
       "      <td>Young Adult</td>\n",
       "    </tr>\n",
       "    <tr>\n",
       "      <th>freq</th>\n",
       "      <td>NaN</td>\n",
       "      <td>NaN</td>\n",
       "      <td>1</td>\n",
       "      <td>266</td>\n",
       "      <td>NaN</td>\n",
       "      <td>NaN</td>\n",
       "      <td>NaN</td>\n",
       "      <td>5</td>\n",
       "      <td>NaN</td>\n",
       "      <td>3</td>\n",
       "      <td>270</td>\n",
       "      <td>96</td>\n",
       "    </tr>\n",
       "    <tr>\n",
       "      <th>mean</th>\n",
       "      <td>1100.500000</td>\n",
       "      <td>2.265550</td>\n",
       "      <td>NaN</td>\n",
       "      <td>NaN</td>\n",
       "      <td>23.941388</td>\n",
       "      <td>0.447368</td>\n",
       "      <td>0.392344</td>\n",
       "      <td>NaN</td>\n",
       "      <td>35.627188</td>\n",
       "      <td>NaN</td>\n",
       "      <td>NaN</td>\n",
       "      <td>NaN</td>\n",
       "    </tr>\n",
       "    <tr>\n",
       "      <th>std</th>\n",
       "      <td>120.810458</td>\n",
       "      <td>0.841838</td>\n",
       "      <td>NaN</td>\n",
       "      <td>NaN</td>\n",
       "      <td>17.741080</td>\n",
       "      <td>0.896760</td>\n",
       "      <td>0.981429</td>\n",
       "      <td>NaN</td>\n",
       "      <td>55.907576</td>\n",
       "      <td>NaN</td>\n",
       "      <td>NaN</td>\n",
       "      <td>NaN</td>\n",
       "    </tr>\n",
       "    <tr>\n",
       "      <th>min</th>\n",
       "      <td>892.000000</td>\n",
       "      <td>1.000000</td>\n",
       "      <td>NaN</td>\n",
       "      <td>NaN</td>\n",
       "      <td>-0.500000</td>\n",
       "      <td>0.000000</td>\n",
       "      <td>0.000000</td>\n",
       "      <td>NaN</td>\n",
       "      <td>0.000000</td>\n",
       "      <td>NaN</td>\n",
       "      <td>NaN</td>\n",
       "      <td>NaN</td>\n",
       "    </tr>\n",
       "    <tr>\n",
       "      <th>25%</th>\n",
       "      <td>996.250000</td>\n",
       "      <td>1.000000</td>\n",
       "      <td>NaN</td>\n",
       "      <td>NaN</td>\n",
       "      <td>9.000000</td>\n",
       "      <td>0.000000</td>\n",
       "      <td>0.000000</td>\n",
       "      <td>NaN</td>\n",
       "      <td>7.895800</td>\n",
       "      <td>NaN</td>\n",
       "      <td>NaN</td>\n",
       "      <td>NaN</td>\n",
       "    </tr>\n",
       "    <tr>\n",
       "      <th>50%</th>\n",
       "      <td>1100.500000</td>\n",
       "      <td>3.000000</td>\n",
       "      <td>NaN</td>\n",
       "      <td>NaN</td>\n",
       "      <td>24.000000</td>\n",
       "      <td>0.000000</td>\n",
       "      <td>0.000000</td>\n",
       "      <td>NaN</td>\n",
       "      <td>14.454200</td>\n",
       "      <td>NaN</td>\n",
       "      <td>NaN</td>\n",
       "      <td>NaN</td>\n",
       "    </tr>\n",
       "    <tr>\n",
       "      <th>75%</th>\n",
       "      <td>1204.750000</td>\n",
       "      <td>3.000000</td>\n",
       "      <td>NaN</td>\n",
       "      <td>NaN</td>\n",
       "      <td>35.750000</td>\n",
       "      <td>1.000000</td>\n",
       "      <td>0.000000</td>\n",
       "      <td>NaN</td>\n",
       "      <td>31.500000</td>\n",
       "      <td>NaN</td>\n",
       "      <td>NaN</td>\n",
       "      <td>NaN</td>\n",
       "    </tr>\n",
       "    <tr>\n",
       "      <th>max</th>\n",
       "      <td>1309.000000</td>\n",
       "      <td>3.000000</td>\n",
       "      <td>NaN</td>\n",
       "      <td>NaN</td>\n",
       "      <td>76.000000</td>\n",
       "      <td>8.000000</td>\n",
       "      <td>9.000000</td>\n",
       "      <td>NaN</td>\n",
       "      <td>512.329200</td>\n",
       "      <td>NaN</td>\n",
       "      <td>NaN</td>\n",
       "      <td>NaN</td>\n",
       "    </tr>\n",
       "  </tbody>\n",
       "</table>\n",
       "</div>"
      ],
      "text/plain": [
       "        PassengerId      Pclass              Name   Sex         Age  \\\n",
       "count    418.000000  418.000000               418   418  418.000000   \n",
       "unique          NaN         NaN               418     2         NaN   \n",
       "top             NaN         NaN  Kelly, Mr. James  male         NaN   \n",
       "freq            NaN         NaN                 1   266         NaN   \n",
       "mean    1100.500000    2.265550               NaN   NaN   23.941388   \n",
       "std      120.810458    0.841838               NaN   NaN   17.741080   \n",
       "min      892.000000    1.000000               NaN   NaN   -0.500000   \n",
       "25%      996.250000    1.000000               NaN   NaN    9.000000   \n",
       "50%     1100.500000    3.000000               NaN   NaN   24.000000   \n",
       "75%     1204.750000    3.000000               NaN   NaN   35.750000   \n",
       "max     1309.000000    3.000000               NaN   NaN   76.000000   \n",
       "\n",
       "             SibSp       Parch    Ticket        Fare            Cabin  \\\n",
       "count   418.000000  418.000000       418  417.000000               91   \n",
       "unique         NaN         NaN       363         NaN               76   \n",
       "top            NaN         NaN  PC 17608         NaN  B57 B59 B63 B66   \n",
       "freq           NaN         NaN         5         NaN                3   \n",
       "mean      0.447368    0.392344       NaN   35.627188              NaN   \n",
       "std       0.896760    0.981429       NaN   55.907576              NaN   \n",
       "min       0.000000    0.000000       NaN    0.000000              NaN   \n",
       "25%       0.000000    0.000000       NaN    7.895800              NaN   \n",
       "50%       0.000000    0.000000       NaN   14.454200              NaN   \n",
       "75%       1.000000    0.000000       NaN   31.500000              NaN   \n",
       "max       8.000000    9.000000       NaN  512.329200              NaN   \n",
       "\n",
       "       Embarked     AgeGroup  \n",
       "count       418          418  \n",
       "unique        3            8  \n",
       "top           S  Young Adult  \n",
       "freq        270           96  \n",
       "mean        NaN          NaN  \n",
       "std         NaN          NaN  \n",
       "min         NaN          NaN  \n",
       "25%         NaN          NaN  \n",
       "50%         NaN          NaN  \n",
       "75%         NaN          NaN  \n",
       "max         NaN          NaN  "
      ]
     },
     "execution_count": 16,
     "metadata": {},
     "output_type": "execute_result"
    }
   ],
   "source": [
    "#Look testing dataset\n",
    "test_df.describe(include='all')"
   ]
  },
  {
   "cell_type": "code",
   "execution_count": 17,
   "id": "2e26eca4",
   "metadata": {
    "execution": {
     "iopub.execute_input": "2021-10-31T02:31:02.952099Z",
     "iopub.status.busy": "2021-10-31T02:31:02.951424Z",
     "iopub.status.idle": "2021-10-31T02:31:02.954066Z",
     "shell.execute_reply": "2021-10-31T02:31:02.954479Z",
     "shell.execute_reply.started": "2021-10-31T01:58:43.241701Z"
    },
    "papermill": {
     "duration": 0.048843,
     "end_time": "2021-10-31T02:31:02.954661",
     "exception": false,
     "start_time": "2021-10-31T02:31:02.905818",
     "status": "completed"
    },
    "tags": []
   },
   "outputs": [
    {
     "data": {
      "text/plain": [
       "PassengerId      0\n",
       "Pclass           0\n",
       "Name             0\n",
       "Sex              0\n",
       "Age              0\n",
       "SibSp            0\n",
       "Parch            0\n",
       "Ticket           0\n",
       "Fare             1\n",
       "Cabin          327\n",
       "Embarked         0\n",
       "AgeGroup         0\n",
       "dtype: int64"
      ]
     },
     "execution_count": 17,
     "metadata": {},
     "output_type": "execute_result"
    }
   ],
   "source": [
    "test_df.isna().sum()"
   ]
  },
  {
   "cell_type": "code",
   "execution_count": 18,
   "id": "5bd40ce9",
   "metadata": {
    "execution": {
     "iopub.execute_input": "2021-10-31T02:31:03.032762Z",
     "iopub.status.busy": "2021-10-31T02:31:03.032128Z",
     "iopub.status.idle": "2021-10-31T02:31:03.039865Z",
     "shell.execute_reply": "2021-10-31T02:31:03.040337Z",
     "shell.execute_reply.started": "2021-10-31T01:58:54.248063Z"
    },
    "papermill": {
     "duration": 0.04862,
     "end_time": "2021-10-31T02:31:03.040506",
     "exception": false,
     "start_time": "2021-10-31T02:31:02.991886",
     "status": "completed"
    },
    "tags": []
   },
   "outputs": [
    {
     "data": {
      "text/plain": [
       "PassengerId      0\n",
       "Survived         0\n",
       "Pclass           0\n",
       "Name             0\n",
       "Sex              0\n",
       "Age              0\n",
       "SibSp            0\n",
       "Parch            0\n",
       "Ticket           0\n",
       "Fare             0\n",
       "Cabin          687\n",
       "Embarked         2\n",
       "AgeGroup         0\n",
       "dtype: int64"
      ]
     },
     "execution_count": 18,
     "metadata": {},
     "output_type": "execute_result"
    }
   ],
   "source": [
    "train_df.isna().sum()"
   ]
  },
  {
   "cell_type": "markdown",
   "id": "7446874c",
   "metadata": {
    "papermill": {
     "duration": 0.038337,
     "end_time": "2021-10-31T02:31:03.116894",
     "exception": false,
     "start_time": "2021-10-31T02:31:03.078557",
     "status": "completed"
    },
    "tags": []
   },
   "source": []
  },
  {
   "cell_type": "code",
   "execution_count": 19,
   "id": "fd6c90a8",
   "metadata": {
    "execution": {
     "iopub.execute_input": "2021-10-31T02:31:03.197257Z",
     "iopub.status.busy": "2021-10-31T02:31:03.196630Z",
     "iopub.status.idle": "2021-10-31T02:31:03.202202Z",
     "shell.execute_reply": "2021-10-31T02:31:03.202643Z",
     "shell.execute_reply.started": "2021-10-31T02:00:58.195964Z"
    },
    "papermill": {
     "duration": 0.047516,
     "end_time": "2021-10-31T02:31:03.202823",
     "exception": false,
     "start_time": "2021-10-31T02:31:03.155307",
     "status": "completed"
    },
    "tags": []
   },
   "outputs": [],
   "source": [
    "#we'll start off by dropping the Cabin and Ticket feature since not a lot more useful information can be extracted from it.\n",
    "train_df = train_df.drop(['Cabin', 'Ticket'], axis = 1)\n",
    "test_df = test_df.drop(['Cabin', 'Ticket'], axis = 1)"
   ]
  },
  {
   "cell_type": "code",
   "execution_count": 20,
   "id": "dcf0ce8b",
   "metadata": {
    "execution": {
     "iopub.execute_input": "2021-10-31T02:31:03.282888Z",
     "iopub.status.busy": "2021-10-31T02:31:03.282042Z",
     "iopub.status.idle": "2021-10-31T02:31:03.288701Z",
     "shell.execute_reply": "2021-10-31T02:31:03.289149Z",
     "shell.execute_reply.started": "2021-10-31T02:02:07.823473Z"
    },
    "papermill": {
     "duration": 0.048601,
     "end_time": "2021-10-31T02:31:03.289315",
     "exception": false,
     "start_time": "2021-10-31T02:31:03.240714",
     "status": "completed"
    },
    "tags": []
   },
   "outputs": [
    {
     "data": {
      "text/plain": [
       "0"
      ]
     },
     "execution_count": 20,
     "metadata": {},
     "output_type": "execute_result"
    }
   ],
   "source": [
    "#Missing value column Embarked\n",
    "modus = train_df['Embarked'].mode()[0]\n",
    "train_df['Embarked'] = train_df['Embarked'].fillna(modus)\n",
    "train_df['Embarked'].isna().sum()"
   ]
  },
  {
   "cell_type": "code",
   "execution_count": 21,
   "id": "a5bf7f5a",
   "metadata": {
    "execution": {
     "iopub.execute_input": "2021-10-31T02:31:03.369308Z",
     "iopub.status.busy": "2021-10-31T02:31:03.368671Z",
     "iopub.status.idle": "2021-10-31T02:31:03.394202Z",
     "shell.execute_reply": "2021-10-31T02:31:03.394597Z",
     "shell.execute_reply.started": "2021-10-31T02:02:30.223428Z"
    },
    "papermill": {
     "duration": 0.067335,
     "end_time": "2021-10-31T02:31:03.394787",
     "exception": false,
     "start_time": "2021-10-31T02:31:03.327452",
     "status": "completed"
    },
    "tags": []
   },
   "outputs": [
    {
     "data": {
      "text/html": [
       "<div>\n",
       "<style scoped>\n",
       "    .dataframe tbody tr th:only-of-type {\n",
       "        vertical-align: middle;\n",
       "    }\n",
       "\n",
       "    .dataframe tbody tr th {\n",
       "        vertical-align: top;\n",
       "    }\n",
       "\n",
       "    .dataframe thead th {\n",
       "        text-align: right;\n",
       "    }\n",
       "</style>\n",
       "<table border=\"1\" class=\"dataframe\">\n",
       "  <thead>\n",
       "    <tr style=\"text-align: right;\">\n",
       "      <th>Sex</th>\n",
       "      <th>female</th>\n",
       "      <th>male</th>\n",
       "    </tr>\n",
       "    <tr>\n",
       "      <th>Title</th>\n",
       "      <th></th>\n",
       "      <th></th>\n",
       "    </tr>\n",
       "  </thead>\n",
       "  <tbody>\n",
       "    <tr>\n",
       "      <th>Capt</th>\n",
       "      <td>0</td>\n",
       "      <td>1</td>\n",
       "    </tr>\n",
       "    <tr>\n",
       "      <th>Col</th>\n",
       "      <td>0</td>\n",
       "      <td>2</td>\n",
       "    </tr>\n",
       "    <tr>\n",
       "      <th>Countess</th>\n",
       "      <td>1</td>\n",
       "      <td>0</td>\n",
       "    </tr>\n",
       "    <tr>\n",
       "      <th>Don</th>\n",
       "      <td>0</td>\n",
       "      <td>1</td>\n",
       "    </tr>\n",
       "    <tr>\n",
       "      <th>Dr</th>\n",
       "      <td>1</td>\n",
       "      <td>6</td>\n",
       "    </tr>\n",
       "    <tr>\n",
       "      <th>Jonkheer</th>\n",
       "      <td>0</td>\n",
       "      <td>1</td>\n",
       "    </tr>\n",
       "    <tr>\n",
       "      <th>Lady</th>\n",
       "      <td>1</td>\n",
       "      <td>0</td>\n",
       "    </tr>\n",
       "    <tr>\n",
       "      <th>Major</th>\n",
       "      <td>0</td>\n",
       "      <td>2</td>\n",
       "    </tr>\n",
       "    <tr>\n",
       "      <th>Master</th>\n",
       "      <td>0</td>\n",
       "      <td>40</td>\n",
       "    </tr>\n",
       "    <tr>\n",
       "      <th>Miss</th>\n",
       "      <td>182</td>\n",
       "      <td>0</td>\n",
       "    </tr>\n",
       "    <tr>\n",
       "      <th>Mlle</th>\n",
       "      <td>2</td>\n",
       "      <td>0</td>\n",
       "    </tr>\n",
       "    <tr>\n",
       "      <th>Mme</th>\n",
       "      <td>1</td>\n",
       "      <td>0</td>\n",
       "    </tr>\n",
       "    <tr>\n",
       "      <th>Mr</th>\n",
       "      <td>0</td>\n",
       "      <td>517</td>\n",
       "    </tr>\n",
       "    <tr>\n",
       "      <th>Mrs</th>\n",
       "      <td>125</td>\n",
       "      <td>0</td>\n",
       "    </tr>\n",
       "    <tr>\n",
       "      <th>Ms</th>\n",
       "      <td>1</td>\n",
       "      <td>0</td>\n",
       "    </tr>\n",
       "    <tr>\n",
       "      <th>Rev</th>\n",
       "      <td>0</td>\n",
       "      <td>6</td>\n",
       "    </tr>\n",
       "    <tr>\n",
       "      <th>Sir</th>\n",
       "      <td>0</td>\n",
       "      <td>1</td>\n",
       "    </tr>\n",
       "  </tbody>\n",
       "</table>\n",
       "</div>"
      ],
      "text/plain": [
       "Sex       female  male\n",
       "Title                 \n",
       "Capt           0     1\n",
       "Col            0     2\n",
       "Countess       1     0\n",
       "Don            0     1\n",
       "Dr             1     6\n",
       "Jonkheer       0     1\n",
       "Lady           1     0\n",
       "Major          0     2\n",
       "Master         0    40\n",
       "Miss         182     0\n",
       "Mlle           2     0\n",
       "Mme            1     0\n",
       "Mr             0   517\n",
       "Mrs          125     0\n",
       "Ms             1     0\n",
       "Rev            0     6\n",
       "Sir            0     1"
      ]
     },
     "execution_count": 21,
     "metadata": {},
     "output_type": "execute_result"
    }
   ],
   "source": [
    "#create a combined group of both datasets\n",
    "combine = [train_df, test_df]\n",
    "\n",
    "#extract a title for each Name in the train and test datasets\n",
    "for dataset in combine:\n",
    "    dataset['Title'] = dataset.Name.str.extract(' ([A-Za-z]+)\\.', expand=False)\n",
    "\n",
    "pd.crosstab(train_df['Title'], train_df['Sex'])"
   ]
  },
  {
   "cell_type": "code",
   "execution_count": 22,
   "id": "1c18bc80",
   "metadata": {
    "execution": {
     "iopub.execute_input": "2021-10-31T02:31:03.475116Z",
     "iopub.status.busy": "2021-10-31T02:31:03.474473Z",
     "iopub.status.idle": "2021-10-31T02:31:03.493693Z",
     "shell.execute_reply": "2021-10-31T02:31:03.494110Z",
     "shell.execute_reply.started": "2021-10-31T02:02:49.364712Z"
    },
    "papermill": {
     "duration": 0.06089,
     "end_time": "2021-10-31T02:31:03.494285",
     "exception": false,
     "start_time": "2021-10-31T02:31:03.433395",
     "status": "completed"
    },
    "tags": []
   },
   "outputs": [
    {
     "data": {
      "text/html": [
       "<div>\n",
       "<style scoped>\n",
       "    .dataframe tbody tr th:only-of-type {\n",
       "        vertical-align: middle;\n",
       "    }\n",
       "\n",
       "    .dataframe tbody tr th {\n",
       "        vertical-align: top;\n",
       "    }\n",
       "\n",
       "    .dataframe thead th {\n",
       "        text-align: right;\n",
       "    }\n",
       "</style>\n",
       "<table border=\"1\" class=\"dataframe\">\n",
       "  <thead>\n",
       "    <tr style=\"text-align: right;\">\n",
       "      <th></th>\n",
       "      <th>Title</th>\n",
       "      <th>Survived</th>\n",
       "    </tr>\n",
       "  </thead>\n",
       "  <tbody>\n",
       "    <tr>\n",
       "      <th>0</th>\n",
       "      <td>Master</td>\n",
       "      <td>0.575000</td>\n",
       "    </tr>\n",
       "    <tr>\n",
       "      <th>1</th>\n",
       "      <td>Miss</td>\n",
       "      <td>0.702703</td>\n",
       "    </tr>\n",
       "    <tr>\n",
       "      <th>2</th>\n",
       "      <td>Mr</td>\n",
       "      <td>0.156673</td>\n",
       "    </tr>\n",
       "    <tr>\n",
       "      <th>3</th>\n",
       "      <td>Mrs</td>\n",
       "      <td>0.793651</td>\n",
       "    </tr>\n",
       "    <tr>\n",
       "      <th>4</th>\n",
       "      <td>Rare</td>\n",
       "      <td>0.285714</td>\n",
       "    </tr>\n",
       "    <tr>\n",
       "      <th>5</th>\n",
       "      <td>Royal</td>\n",
       "      <td>1.000000</td>\n",
       "    </tr>\n",
       "  </tbody>\n",
       "</table>\n",
       "</div>"
      ],
      "text/plain": [
       "    Title  Survived\n",
       "0  Master  0.575000\n",
       "1    Miss  0.702703\n",
       "2      Mr  0.156673\n",
       "3     Mrs  0.793651\n",
       "4    Rare  0.285714\n",
       "5   Royal  1.000000"
      ]
     },
     "execution_count": 22,
     "metadata": {},
     "output_type": "execute_result"
    }
   ],
   "source": [
    "#replace various titles with more common names\n",
    "for dataset in combine:\n",
    "    dataset['Title'] = dataset['Title'].replace(['Lady', 'Capt', 'Col',\n",
    "    'Don', 'Dr', 'Major', 'Rev', 'Jonkheer', 'Dona'], 'Rare')\n",
    "    dataset['Title'] = dataset['Title'].replace(['Countess', 'Lady', 'Sir'], 'Royal')\n",
    "    dataset['Title'] = dataset['Title'].replace('Mlle', 'Miss')\n",
    "    dataset['Title'] = dataset['Title'].replace('Ms', 'Miss')\n",
    "    dataset['Title'] = dataset['Title'].replace('Mme', 'Mrs')\n",
    "\n",
    "train_df[['Title', 'Survived']].groupby(['Title'], as_index=False).mean()"
   ]
  },
  {
   "cell_type": "code",
   "execution_count": 23,
   "id": "fd1856c7",
   "metadata": {
    "execution": {
     "iopub.execute_input": "2021-10-31T02:31:03.576531Z",
     "iopub.status.busy": "2021-10-31T02:31:03.575944Z",
     "iopub.status.idle": "2021-10-31T02:31:03.592585Z",
     "shell.execute_reply": "2021-10-31T02:31:03.593049Z",
     "shell.execute_reply.started": "2021-10-31T02:03:07.694703Z"
    },
    "papermill": {
     "duration": 0.060187,
     "end_time": "2021-10-31T02:31:03.593235",
     "exception": false,
     "start_time": "2021-10-31T02:31:03.533048",
     "status": "completed"
    },
    "tags": []
   },
   "outputs": [
    {
     "data": {
      "text/html": [
       "<div>\n",
       "<style scoped>\n",
       "    .dataframe tbody tr th:only-of-type {\n",
       "        vertical-align: middle;\n",
       "    }\n",
       "\n",
       "    .dataframe tbody tr th {\n",
       "        vertical-align: top;\n",
       "    }\n",
       "\n",
       "    .dataframe thead th {\n",
       "        text-align: right;\n",
       "    }\n",
       "</style>\n",
       "<table border=\"1\" class=\"dataframe\">\n",
       "  <thead>\n",
       "    <tr style=\"text-align: right;\">\n",
       "      <th></th>\n",
       "      <th>PassengerId</th>\n",
       "      <th>Survived</th>\n",
       "      <th>Pclass</th>\n",
       "      <th>Name</th>\n",
       "      <th>Sex</th>\n",
       "      <th>Age</th>\n",
       "      <th>SibSp</th>\n",
       "      <th>Parch</th>\n",
       "      <th>Fare</th>\n",
       "      <th>Embarked</th>\n",
       "      <th>AgeGroup</th>\n",
       "      <th>Title</th>\n",
       "    </tr>\n",
       "  </thead>\n",
       "  <tbody>\n",
       "    <tr>\n",
       "      <th>0</th>\n",
       "      <td>1</td>\n",
       "      <td>0</td>\n",
       "      <td>3</td>\n",
       "      <td>Braund, Mr. Owen Harris</td>\n",
       "      <td>male</td>\n",
       "      <td>22.0</td>\n",
       "      <td>1</td>\n",
       "      <td>0</td>\n",
       "      <td>7.2500</td>\n",
       "      <td>S</td>\n",
       "      <td>Student</td>\n",
       "      <td>1</td>\n",
       "    </tr>\n",
       "    <tr>\n",
       "      <th>1</th>\n",
       "      <td>2</td>\n",
       "      <td>1</td>\n",
       "      <td>1</td>\n",
       "      <td>Cumings, Mrs. John Bradley (Florence Briggs Th...</td>\n",
       "      <td>female</td>\n",
       "      <td>38.0</td>\n",
       "      <td>1</td>\n",
       "      <td>0</td>\n",
       "      <td>71.2833</td>\n",
       "      <td>C</td>\n",
       "      <td>Adult</td>\n",
       "      <td>3</td>\n",
       "    </tr>\n",
       "    <tr>\n",
       "      <th>2</th>\n",
       "      <td>3</td>\n",
       "      <td>1</td>\n",
       "      <td>3</td>\n",
       "      <td>Heikkinen, Miss. Laina</td>\n",
       "      <td>female</td>\n",
       "      <td>26.0</td>\n",
       "      <td>0</td>\n",
       "      <td>0</td>\n",
       "      <td>7.9250</td>\n",
       "      <td>S</td>\n",
       "      <td>Young Adult</td>\n",
       "      <td>2</td>\n",
       "    </tr>\n",
       "    <tr>\n",
       "      <th>3</th>\n",
       "      <td>4</td>\n",
       "      <td>1</td>\n",
       "      <td>1</td>\n",
       "      <td>Futrelle, Mrs. Jacques Heath (Lily May Peel)</td>\n",
       "      <td>female</td>\n",
       "      <td>35.0</td>\n",
       "      <td>1</td>\n",
       "      <td>0</td>\n",
       "      <td>53.1000</td>\n",
       "      <td>S</td>\n",
       "      <td>Young Adult</td>\n",
       "      <td>3</td>\n",
       "    </tr>\n",
       "    <tr>\n",
       "      <th>4</th>\n",
       "      <td>5</td>\n",
       "      <td>0</td>\n",
       "      <td>3</td>\n",
       "      <td>Allen, Mr. William Henry</td>\n",
       "      <td>male</td>\n",
       "      <td>35.0</td>\n",
       "      <td>0</td>\n",
       "      <td>0</td>\n",
       "      <td>8.0500</td>\n",
       "      <td>S</td>\n",
       "      <td>Young Adult</td>\n",
       "      <td>1</td>\n",
       "    </tr>\n",
       "  </tbody>\n",
       "</table>\n",
       "</div>"
      ],
      "text/plain": [
       "   PassengerId  Survived  Pclass  \\\n",
       "0            1         0       3   \n",
       "1            2         1       1   \n",
       "2            3         1       3   \n",
       "3            4         1       1   \n",
       "4            5         0       3   \n",
       "\n",
       "                                                Name     Sex   Age  SibSp  \\\n",
       "0                            Braund, Mr. Owen Harris    male  22.0      1   \n",
       "1  Cumings, Mrs. John Bradley (Florence Briggs Th...  female  38.0      1   \n",
       "2                             Heikkinen, Miss. Laina  female  26.0      0   \n",
       "3       Futrelle, Mrs. Jacques Heath (Lily May Peel)  female  35.0      1   \n",
       "4                           Allen, Mr. William Henry    male  35.0      0   \n",
       "\n",
       "   Parch     Fare Embarked     AgeGroup  Title  \n",
       "0      0   7.2500        S      Student      1  \n",
       "1      0  71.2833        C        Adult      3  \n",
       "2      0   7.9250        S  Young Adult      2  \n",
       "3      0  53.1000        S  Young Adult      3  \n",
       "4      0   8.0500        S  Young Adult      1  "
      ]
     },
     "execution_count": 23,
     "metadata": {},
     "output_type": "execute_result"
    }
   ],
   "source": [
    "#map each of the title groups to a numerical value\n",
    "title_mapping = {\"Mr\": 1, \"Miss\": 2, \"Mrs\": 3, \"Master\": 4, \"Royal\": 5, \"Rare\": 6}\n",
    "for dataset in combine:\n",
    "    dataset['Title'] = dataset['Title'].map(title_mapping)\n",
    "    dataset['Title'] = dataset['Title'].fillna(0)\n",
    "\n",
    "train_df.head()"
   ]
  },
  {
   "cell_type": "code",
   "execution_count": 24,
   "id": "040d85fd",
   "metadata": {
    "execution": {
     "iopub.execute_input": "2021-10-31T02:31:03.676953Z",
     "iopub.status.busy": "2021-10-31T02:31:03.676252Z",
     "iopub.status.idle": "2021-10-31T02:31:03.798406Z",
     "shell.execute_reply": "2021-10-31T02:31:03.798886Z",
     "shell.execute_reply.started": "2021-10-31T02:03:21.764201Z"
    },
    "papermill": {
     "duration": 0.165209,
     "end_time": "2021-10-31T02:31:03.799069",
     "exception": false,
     "start_time": "2021-10-31T02:31:03.633860",
     "status": "completed"
    },
    "tags": []
   },
   "outputs": [],
   "source": [
    "# fill missing age with mode age group for each title\n",
    "mr_age = train_df[train_df[\"Title\"] == 1][\"AgeGroup\"].mode() #Young Adult\n",
    "miss_age = train_df[train_df[\"Title\"] == 2][\"AgeGroup\"].mode() #Student\n",
    "mrs_age = train_df[train_df[\"Title\"] == 3][\"AgeGroup\"].mode() #Adult\n",
    "master_age = train_df[train_df[\"Title\"] == 4][\"AgeGroup\"].mode() #Baby\n",
    "royal_age = train_df[train_df[\"Title\"] == 5][\"AgeGroup\"].mode() #Adult\n",
    "rare_age = train_df[train_df[\"Title\"] == 6][\"AgeGroup\"].mode() #Adult\n",
    "\n",
    "age_title_mapping = {1: \"Young Adult\", 2: \"Student\", 3: \"Adult\", 4: \"Baby\", 5: \"Adult\", 6: \"Adult\"}\n",
    "\n",
    "for x in range(len(train_df[\"AgeGroup\"])):\n",
    "    if train_df[\"AgeGroup\"][x] == \"Unknown\":\n",
    "        train_df[\"AgeGroup\"][x] = age_title_mapping[train_df[\"Title\"][x]]\n",
    "        \n",
    "for x in range(len(test_df[\"AgeGroup\"])):\n",
    "    if test_df[\"AgeGroup\"][x] == \"Unknown\":\n",
    "        test_df[\"AgeGroup\"][x] = age_title_mapping[test_df[\"Title\"][x]]"
   ]
  },
  {
   "cell_type": "code",
   "execution_count": 25,
   "id": "503c2e9e",
   "metadata": {
    "execution": {
     "iopub.execute_input": "2021-10-31T02:31:03.886328Z",
     "iopub.status.busy": "2021-10-31T02:31:03.885696Z",
     "iopub.status.idle": "2021-10-31T02:31:03.901413Z",
     "shell.execute_reply": "2021-10-31T02:31:03.900905Z",
     "shell.execute_reply.started": "2021-10-31T02:03:37.075402Z"
    },
    "papermill": {
     "duration": 0.063154,
     "end_time": "2021-10-31T02:31:03.901547",
     "exception": false,
     "start_time": "2021-10-31T02:31:03.838393",
     "status": "completed"
    },
    "tags": []
   },
   "outputs": [
    {
     "data": {
      "text/html": [
       "<div>\n",
       "<style scoped>\n",
       "    .dataframe tbody tr th:only-of-type {\n",
       "        vertical-align: middle;\n",
       "    }\n",
       "\n",
       "    .dataframe tbody tr th {\n",
       "        vertical-align: top;\n",
       "    }\n",
       "\n",
       "    .dataframe thead th {\n",
       "        text-align: right;\n",
       "    }\n",
       "</style>\n",
       "<table border=\"1\" class=\"dataframe\">\n",
       "  <thead>\n",
       "    <tr style=\"text-align: right;\">\n",
       "      <th></th>\n",
       "      <th>PassengerId</th>\n",
       "      <th>Survived</th>\n",
       "      <th>Pclass</th>\n",
       "      <th>Name</th>\n",
       "      <th>Sex</th>\n",
       "      <th>Age</th>\n",
       "      <th>SibSp</th>\n",
       "      <th>Parch</th>\n",
       "      <th>Fare</th>\n",
       "      <th>Embarked</th>\n",
       "      <th>AgeGroup</th>\n",
       "      <th>Title</th>\n",
       "    </tr>\n",
       "  </thead>\n",
       "  <tbody>\n",
       "    <tr>\n",
       "      <th>0</th>\n",
       "      <td>1</td>\n",
       "      <td>0</td>\n",
       "      <td>3</td>\n",
       "      <td>Braund, Mr. Owen Harris</td>\n",
       "      <td>male</td>\n",
       "      <td>22.0</td>\n",
       "      <td>1</td>\n",
       "      <td>0</td>\n",
       "      <td>7.2500</td>\n",
       "      <td>S</td>\n",
       "      <td>4.0</td>\n",
       "      <td>1</td>\n",
       "    </tr>\n",
       "    <tr>\n",
       "      <th>1</th>\n",
       "      <td>2</td>\n",
       "      <td>1</td>\n",
       "      <td>1</td>\n",
       "      <td>Cumings, Mrs. John Bradley (Florence Briggs Th...</td>\n",
       "      <td>female</td>\n",
       "      <td>38.0</td>\n",
       "      <td>1</td>\n",
       "      <td>0</td>\n",
       "      <td>71.2833</td>\n",
       "      <td>C</td>\n",
       "      <td>6.0</td>\n",
       "      <td>3</td>\n",
       "    </tr>\n",
       "    <tr>\n",
       "      <th>2</th>\n",
       "      <td>3</td>\n",
       "      <td>1</td>\n",
       "      <td>3</td>\n",
       "      <td>Heikkinen, Miss. Laina</td>\n",
       "      <td>female</td>\n",
       "      <td>26.0</td>\n",
       "      <td>0</td>\n",
       "      <td>0</td>\n",
       "      <td>7.9250</td>\n",
       "      <td>S</td>\n",
       "      <td>5.0</td>\n",
       "      <td>2</td>\n",
       "    </tr>\n",
       "    <tr>\n",
       "      <th>3</th>\n",
       "      <td>4</td>\n",
       "      <td>1</td>\n",
       "      <td>1</td>\n",
       "      <td>Futrelle, Mrs. Jacques Heath (Lily May Peel)</td>\n",
       "      <td>female</td>\n",
       "      <td>35.0</td>\n",
       "      <td>1</td>\n",
       "      <td>0</td>\n",
       "      <td>53.1000</td>\n",
       "      <td>S</td>\n",
       "      <td>5.0</td>\n",
       "      <td>3</td>\n",
       "    </tr>\n",
       "    <tr>\n",
       "      <th>4</th>\n",
       "      <td>5</td>\n",
       "      <td>0</td>\n",
       "      <td>3</td>\n",
       "      <td>Allen, Mr. William Henry</td>\n",
       "      <td>male</td>\n",
       "      <td>35.0</td>\n",
       "      <td>0</td>\n",
       "      <td>0</td>\n",
       "      <td>8.0500</td>\n",
       "      <td>S</td>\n",
       "      <td>5.0</td>\n",
       "      <td>1</td>\n",
       "    </tr>\n",
       "  </tbody>\n",
       "</table>\n",
       "</div>"
      ],
      "text/plain": [
       "   PassengerId  Survived  Pclass  \\\n",
       "0            1         0       3   \n",
       "1            2         1       1   \n",
       "2            3         1       3   \n",
       "3            4         1       1   \n",
       "4            5         0       3   \n",
       "\n",
       "                                                Name     Sex   Age  SibSp  \\\n",
       "0                            Braund, Mr. Owen Harris    male  22.0      1   \n",
       "1  Cumings, Mrs. John Bradley (Florence Briggs Th...  female  38.0      1   \n",
       "2                             Heikkinen, Miss. Laina  female  26.0      0   \n",
       "3       Futrelle, Mrs. Jacques Heath (Lily May Peel)  female  35.0      1   \n",
       "4                           Allen, Mr. William Henry    male  35.0      0   \n",
       "\n",
       "   Parch     Fare Embarked  AgeGroup  Title  \n",
       "0      0   7.2500        S       4.0      1  \n",
       "1      0  71.2833        C       6.0      3  \n",
       "2      0   7.9250        S       5.0      2  \n",
       "3      0  53.1000        S       5.0      3  \n",
       "4      0   8.0500        S       5.0      1  "
      ]
     },
     "execution_count": 25,
     "metadata": {},
     "output_type": "execute_result"
    }
   ],
   "source": [
    "#map each Age value to a numerical value\n",
    "age_mapping = {'Baby': 1, 'Child': 2, 'Teenager': 3, 'Student': 4, 'Young Adult': 5, 'Adult': 6, 'Senior': 7}\n",
    "train_df['AgeGroup'] = train_df['AgeGroup'].map(age_mapping)\n",
    "test_df['AgeGroup'] = test_df['AgeGroup'].map(age_mapping)\n",
    "\n",
    "train_df.head()"
   ]
  },
  {
   "cell_type": "code",
   "execution_count": 26,
   "id": "954f30fa",
   "metadata": {
    "execution": {
     "iopub.execute_input": "2021-10-31T02:31:03.987407Z",
     "iopub.status.busy": "2021-10-31T02:31:03.986446Z",
     "iopub.status.idle": "2021-10-31T02:31:03.992643Z",
     "shell.execute_reply": "2021-10-31T02:31:03.993110Z",
     "shell.execute_reply.started": "2021-10-31T02:03:50.834592Z"
    },
    "papermill": {
     "duration": 0.050534,
     "end_time": "2021-10-31T02:31:03.993273",
     "exception": false,
     "start_time": "2021-10-31T02:31:03.942739",
     "status": "completed"
    },
    "tags": []
   },
   "outputs": [],
   "source": [
    "#drop the name feature since it contains no more useful information.\n",
    "train_df = train_df.drop(['Name','Age'], axis = 1)\n",
    "test_df = test_df.drop(['Name','Age'], axis = 1)"
   ]
  },
  {
   "cell_type": "code",
   "execution_count": 27,
   "id": "fdf8f2fe",
   "metadata": {
    "execution": {
     "iopub.execute_input": "2021-10-31T02:31:04.078368Z",
     "iopub.status.busy": "2021-10-31T02:31:04.077382Z",
     "iopub.status.idle": "2021-10-31T02:31:04.092779Z",
     "shell.execute_reply": "2021-10-31T02:31:04.093290Z",
     "shell.execute_reply.started": "2021-10-31T02:04:00.382948Z"
    },
    "papermill": {
     "duration": 0.060095,
     "end_time": "2021-10-31T02:31:04.093482",
     "exception": false,
     "start_time": "2021-10-31T02:31:04.033387",
     "status": "completed"
    },
    "tags": []
   },
   "outputs": [
    {
     "data": {
      "text/html": [
       "<div>\n",
       "<style scoped>\n",
       "    .dataframe tbody tr th:only-of-type {\n",
       "        vertical-align: middle;\n",
       "    }\n",
       "\n",
       "    .dataframe tbody tr th {\n",
       "        vertical-align: top;\n",
       "    }\n",
       "\n",
       "    .dataframe thead th {\n",
       "        text-align: right;\n",
       "    }\n",
       "</style>\n",
       "<table border=\"1\" class=\"dataframe\">\n",
       "  <thead>\n",
       "    <tr style=\"text-align: right;\">\n",
       "      <th></th>\n",
       "      <th>PassengerId</th>\n",
       "      <th>Survived</th>\n",
       "      <th>Pclass</th>\n",
       "      <th>Sex</th>\n",
       "      <th>SibSp</th>\n",
       "      <th>Parch</th>\n",
       "      <th>Fare</th>\n",
       "      <th>Embarked</th>\n",
       "      <th>AgeGroup</th>\n",
       "      <th>Title</th>\n",
       "    </tr>\n",
       "  </thead>\n",
       "  <tbody>\n",
       "    <tr>\n",
       "      <th>0</th>\n",
       "      <td>1</td>\n",
       "      <td>0</td>\n",
       "      <td>3</td>\n",
       "      <td>0</td>\n",
       "      <td>1</td>\n",
       "      <td>0</td>\n",
       "      <td>7.2500</td>\n",
       "      <td>S</td>\n",
       "      <td>4.0</td>\n",
       "      <td>1</td>\n",
       "    </tr>\n",
       "    <tr>\n",
       "      <th>1</th>\n",
       "      <td>2</td>\n",
       "      <td>1</td>\n",
       "      <td>1</td>\n",
       "      <td>1</td>\n",
       "      <td>1</td>\n",
       "      <td>0</td>\n",
       "      <td>71.2833</td>\n",
       "      <td>C</td>\n",
       "      <td>6.0</td>\n",
       "      <td>3</td>\n",
       "    </tr>\n",
       "    <tr>\n",
       "      <th>2</th>\n",
       "      <td>3</td>\n",
       "      <td>1</td>\n",
       "      <td>3</td>\n",
       "      <td>1</td>\n",
       "      <td>0</td>\n",
       "      <td>0</td>\n",
       "      <td>7.9250</td>\n",
       "      <td>S</td>\n",
       "      <td>5.0</td>\n",
       "      <td>2</td>\n",
       "    </tr>\n",
       "    <tr>\n",
       "      <th>3</th>\n",
       "      <td>4</td>\n",
       "      <td>1</td>\n",
       "      <td>1</td>\n",
       "      <td>1</td>\n",
       "      <td>1</td>\n",
       "      <td>0</td>\n",
       "      <td>53.1000</td>\n",
       "      <td>S</td>\n",
       "      <td>5.0</td>\n",
       "      <td>3</td>\n",
       "    </tr>\n",
       "    <tr>\n",
       "      <th>4</th>\n",
       "      <td>5</td>\n",
       "      <td>0</td>\n",
       "      <td>3</td>\n",
       "      <td>0</td>\n",
       "      <td>0</td>\n",
       "      <td>0</td>\n",
       "      <td>8.0500</td>\n",
       "      <td>S</td>\n",
       "      <td>5.0</td>\n",
       "      <td>1</td>\n",
       "    </tr>\n",
       "  </tbody>\n",
       "</table>\n",
       "</div>"
      ],
      "text/plain": [
       "   PassengerId  Survived  Pclass  Sex  SibSp  Parch     Fare Embarked  \\\n",
       "0            1         0       3    0      1      0   7.2500        S   \n",
       "1            2         1       1    1      1      0  71.2833        C   \n",
       "2            3         1       3    1      0      0   7.9250        S   \n",
       "3            4         1       1    1      1      0  53.1000        S   \n",
       "4            5         0       3    0      0      0   8.0500        S   \n",
       "\n",
       "   AgeGroup  Title  \n",
       "0       4.0      1  \n",
       "1       6.0      3  \n",
       "2       5.0      2  \n",
       "3       5.0      3  \n",
       "4       5.0      1  "
      ]
     },
     "execution_count": 27,
     "metadata": {},
     "output_type": "execute_result"
    }
   ],
   "source": [
    "#map each Sex value to a numerical value\n",
    "sex_mapping = {\"male\": 0, \"female\": 1}\n",
    "train_df['Sex'] = train_df['Sex'].map(sex_mapping)\n",
    "test_df['Sex'] = test_df['Sex'].map(sex_mapping)\n",
    "\n",
    "train_df.head()"
   ]
  },
  {
   "cell_type": "code",
   "execution_count": 28,
   "id": "1d612d72",
   "metadata": {
    "execution": {
     "iopub.execute_input": "2021-10-31T02:31:04.177635Z",
     "iopub.status.busy": "2021-10-31T02:31:04.176720Z",
     "iopub.status.idle": "2021-10-31T02:31:04.191340Z",
     "shell.execute_reply": "2021-10-31T02:31:04.191819Z",
     "shell.execute_reply.started": "2021-10-31T02:04:12.502121Z"
    },
    "papermill": {
     "duration": 0.058262,
     "end_time": "2021-10-31T02:31:04.191983",
     "exception": false,
     "start_time": "2021-10-31T02:31:04.133721",
     "status": "completed"
    },
    "tags": []
   },
   "outputs": [
    {
     "data": {
      "text/html": [
       "<div>\n",
       "<style scoped>\n",
       "    .dataframe tbody tr th:only-of-type {\n",
       "        vertical-align: middle;\n",
       "    }\n",
       "\n",
       "    .dataframe tbody tr th {\n",
       "        vertical-align: top;\n",
       "    }\n",
       "\n",
       "    .dataframe thead th {\n",
       "        text-align: right;\n",
       "    }\n",
       "</style>\n",
       "<table border=\"1\" class=\"dataframe\">\n",
       "  <thead>\n",
       "    <tr style=\"text-align: right;\">\n",
       "      <th></th>\n",
       "      <th>PassengerId</th>\n",
       "      <th>Survived</th>\n",
       "      <th>Pclass</th>\n",
       "      <th>Sex</th>\n",
       "      <th>SibSp</th>\n",
       "      <th>Parch</th>\n",
       "      <th>Fare</th>\n",
       "      <th>Embarked</th>\n",
       "      <th>AgeGroup</th>\n",
       "      <th>Title</th>\n",
       "    </tr>\n",
       "  </thead>\n",
       "  <tbody>\n",
       "    <tr>\n",
       "      <th>0</th>\n",
       "      <td>1</td>\n",
       "      <td>0</td>\n",
       "      <td>3</td>\n",
       "      <td>0</td>\n",
       "      <td>1</td>\n",
       "      <td>0</td>\n",
       "      <td>7.2500</td>\n",
       "      <td>1</td>\n",
       "      <td>4.0</td>\n",
       "      <td>1</td>\n",
       "    </tr>\n",
       "    <tr>\n",
       "      <th>1</th>\n",
       "      <td>2</td>\n",
       "      <td>1</td>\n",
       "      <td>1</td>\n",
       "      <td>1</td>\n",
       "      <td>1</td>\n",
       "      <td>0</td>\n",
       "      <td>71.2833</td>\n",
       "      <td>2</td>\n",
       "      <td>6.0</td>\n",
       "      <td>3</td>\n",
       "    </tr>\n",
       "    <tr>\n",
       "      <th>2</th>\n",
       "      <td>3</td>\n",
       "      <td>1</td>\n",
       "      <td>3</td>\n",
       "      <td>1</td>\n",
       "      <td>0</td>\n",
       "      <td>0</td>\n",
       "      <td>7.9250</td>\n",
       "      <td>1</td>\n",
       "      <td>5.0</td>\n",
       "      <td>2</td>\n",
       "    </tr>\n",
       "    <tr>\n",
       "      <th>3</th>\n",
       "      <td>4</td>\n",
       "      <td>1</td>\n",
       "      <td>1</td>\n",
       "      <td>1</td>\n",
       "      <td>1</td>\n",
       "      <td>0</td>\n",
       "      <td>53.1000</td>\n",
       "      <td>1</td>\n",
       "      <td>5.0</td>\n",
       "      <td>3</td>\n",
       "    </tr>\n",
       "    <tr>\n",
       "      <th>4</th>\n",
       "      <td>5</td>\n",
       "      <td>0</td>\n",
       "      <td>3</td>\n",
       "      <td>0</td>\n",
       "      <td>0</td>\n",
       "      <td>0</td>\n",
       "      <td>8.0500</td>\n",
       "      <td>1</td>\n",
       "      <td>5.0</td>\n",
       "      <td>1</td>\n",
       "    </tr>\n",
       "  </tbody>\n",
       "</table>\n",
       "</div>"
      ],
      "text/plain": [
       "   PassengerId  Survived  Pclass  Sex  SibSp  Parch     Fare  Embarked  \\\n",
       "0            1         0       3    0      1      0   7.2500         1   \n",
       "1            2         1       1    1      1      0  71.2833         2   \n",
       "2            3         1       3    1      0      0   7.9250         1   \n",
       "3            4         1       1    1      1      0  53.1000         1   \n",
       "4            5         0       3    0      0      0   8.0500         1   \n",
       "\n",
       "   AgeGroup  Title  \n",
       "0       4.0      1  \n",
       "1       6.0      3  \n",
       "2       5.0      2  \n",
       "3       5.0      3  \n",
       "4       5.0      1  "
      ]
     },
     "execution_count": 28,
     "metadata": {},
     "output_type": "execute_result"
    }
   ],
   "source": [
    "#map each Embarked value to a numerical value\n",
    "embarked_mapping = {\"S\": 1, \"C\": 2, \"Q\": 3}\n",
    "train_df['Embarked'] = train_df['Embarked'].map(embarked_mapping)\n",
    "test_df['Embarked'] = test_df['Embarked'].map(embarked_mapping)\n",
    "\n",
    "train_df.head()"
   ]
  },
  {
   "cell_type": "code",
   "execution_count": 29,
   "id": "1c1b8b25",
   "metadata": {
    "execution": {
     "iopub.execute_input": "2021-10-31T02:31:04.277135Z",
     "iopub.status.busy": "2021-10-31T02:31:04.276020Z",
     "iopub.status.idle": "2021-10-31T02:31:04.290284Z",
     "shell.execute_reply": "2021-10-31T02:31:04.290777Z",
     "shell.execute_reply.started": "2021-10-31T02:04:46.513395Z"
    },
    "papermill": {
     "duration": 0.05868,
     "end_time": "2021-10-31T02:31:04.290964",
     "exception": false,
     "start_time": "2021-10-31T02:31:04.232284",
     "status": "completed"
    },
    "tags": []
   },
   "outputs": [],
   "source": [
    "#fill in missing Fare value in test set based on mean fare for that Pclass \n",
    "for x in range(len(test_df[\"Fare\"])):\n",
    "    if pd.isnull(test_df[\"Fare\"][x]):\n",
    "        pclass = test_df[\"Pclass\"][x] #Pclass = 3\n",
    "        test_df[\"Fare\"][x] = round(train_df[train_df[\"Pclass\"] == pclass][\"Fare\"].mean(), 4)\n",
    "        \n",
    "#map Fare values into groups of numerical values\n",
    "train_df['FareBand'] = pd.qcut(train_df['Fare'], 4, labels = [1, 2, 3, 4])\n",
    "test_df['FareBand'] = pd.qcut(test_df['Fare'], 4, labels = [1, 2, 3, 4])"
   ]
  },
  {
   "cell_type": "code",
   "execution_count": 30,
   "id": "9c4edf0f",
   "metadata": {
    "execution": {
     "iopub.execute_input": "2021-10-31T02:31:04.377121Z",
     "iopub.status.busy": "2021-10-31T02:31:04.376151Z",
     "iopub.status.idle": "2021-10-31T02:31:04.382030Z",
     "shell.execute_reply": "2021-10-31T02:31:04.382584Z",
     "shell.execute_reply.started": "2021-10-31T02:04:55.395249Z"
    },
    "papermill": {
     "duration": 0.050455,
     "end_time": "2021-10-31T02:31:04.382770",
     "exception": false,
     "start_time": "2021-10-31T02:31:04.332315",
     "status": "completed"
    },
    "tags": []
   },
   "outputs": [],
   "source": [
    "#drop Fare values\n",
    "train_df = train_df.drop(['Fare'], axis = 1)\n",
    "test_df = test_df.drop(['Fare'], axis = 1)"
   ]
  },
  {
   "cell_type": "code",
   "execution_count": 31,
   "id": "f7b6f326",
   "metadata": {
    "execution": {
     "iopub.execute_input": "2021-10-31T02:31:04.469675Z",
     "iopub.status.busy": "2021-10-31T02:31:04.466516Z",
     "iopub.status.idle": "2021-10-31T02:31:04.472433Z",
     "shell.execute_reply": "2021-10-31T02:31:04.472909Z",
     "shell.execute_reply.started": "2021-10-31T02:05:56.117334Z"
    },
    "papermill": {
     "duration": 0.050112,
     "end_time": "2021-10-31T02:31:04.473078",
     "exception": false,
     "start_time": "2021-10-31T02:31:04.422966",
     "status": "completed"
    },
    "tags": []
   },
   "outputs": [
    {
     "data": {
      "text/plain": [
       "PassengerId       int64\n",
       "Survived          int64\n",
       "Pclass            int64\n",
       "Sex               int64\n",
       "SibSp             int64\n",
       "Parch             int64\n",
       "Embarked          int64\n",
       "AgeGroup        float64\n",
       "Title             int64\n",
       "FareBand       category\n",
       "dtype: object"
      ]
     },
     "execution_count": 31,
     "metadata": {},
     "output_type": "execute_result"
    }
   ],
   "source": [
    "#To know training dataset dtypes \n",
    "train_df.dtypes"
   ]
  },
  {
   "cell_type": "code",
   "execution_count": 32,
   "id": "87826383",
   "metadata": {
    "execution": {
     "iopub.execute_input": "2021-10-31T02:31:04.562240Z",
     "iopub.status.busy": "2021-10-31T02:31:04.561488Z",
     "iopub.status.idle": "2021-10-31T02:31:04.564419Z",
     "shell.execute_reply": "2021-10-31T02:31:04.564864Z",
     "shell.execute_reply.started": "2021-10-31T02:06:01.040604Z"
    },
    "papermill": {
     "duration": 0.051656,
     "end_time": "2021-10-31T02:31:04.565023",
     "exception": false,
     "start_time": "2021-10-31T02:31:04.513367",
     "status": "completed"
    },
    "tags": []
   },
   "outputs": [
    {
     "data": {
      "text/plain": [
       "PassengerId       int64\n",
       "Pclass            int64\n",
       "Sex               int64\n",
       "SibSp             int64\n",
       "Parch             int64\n",
       "Embarked          int64\n",
       "AgeGroup        float64\n",
       "Title             int64\n",
       "FareBand       category\n",
       "dtype: object"
      ]
     },
     "execution_count": 32,
     "metadata": {},
     "output_type": "execute_result"
    }
   ],
   "source": [
    "#To know training dataset dtypes \n",
    "test_df.dtypes"
   ]
  },
  {
   "cell_type": "code",
   "execution_count": 33,
   "id": "59b7ef6e",
   "metadata": {
    "execution": {
     "iopub.execute_input": "2021-10-31T02:31:04.650298Z",
     "iopub.status.busy": "2021-10-31T02:31:04.649700Z",
     "iopub.status.idle": "2021-10-31T02:31:04.655799Z",
     "shell.execute_reply": "2021-10-31T02:31:04.656265Z",
     "shell.execute_reply.started": "2021-10-31T02:06:31.269109Z"
    },
    "papermill": {
     "duration": 0.050974,
     "end_time": "2021-10-31T02:31:04.656423",
     "exception": false,
     "start_time": "2021-10-31T02:31:04.605449",
     "status": "completed"
    },
    "tags": []
   },
   "outputs": [],
   "source": [
    "#Convert to numeric\n",
    "train_df = train_df.apply(pd.to_numeric)"
   ]
  },
  {
   "cell_type": "code",
   "execution_count": 34,
   "id": "b13b8884",
   "metadata": {
    "execution": {
     "iopub.execute_input": "2021-10-31T02:31:04.744861Z",
     "iopub.status.busy": "2021-10-31T02:31:04.744042Z",
     "iopub.status.idle": "2021-10-31T02:31:04.747692Z",
     "shell.execute_reply": "2021-10-31T02:31:04.747184Z",
     "shell.execute_reply.started": "2021-10-31T02:06:47.636621Z"
    },
    "papermill": {
     "duration": 0.050955,
     "end_time": "2021-10-31T02:31:04.747829",
     "exception": false,
     "start_time": "2021-10-31T02:31:04.696874",
     "status": "completed"
    },
    "tags": []
   },
   "outputs": [
    {
     "data": {
      "text/plain": [
       "PassengerId      int64\n",
       "Survived         int64\n",
       "Pclass           int64\n",
       "Sex              int64\n",
       "SibSp            int64\n",
       "Parch            int64\n",
       "Embarked         int64\n",
       "AgeGroup       float64\n",
       "Title            int64\n",
       "FareBand         int64\n",
       "dtype: object"
      ]
     },
     "execution_count": 34,
     "metadata": {},
     "output_type": "execute_result"
    }
   ],
   "source": [
    "train_df.dtypes"
   ]
  },
  {
   "cell_type": "code",
   "execution_count": 35,
   "id": "053cc766",
   "metadata": {
    "execution": {
     "iopub.execute_input": "2021-10-31T02:31:04.836752Z",
     "iopub.status.busy": "2021-10-31T02:31:04.835924Z",
     "iopub.status.idle": "2021-10-31T02:31:04.839509Z",
     "shell.execute_reply": "2021-10-31T02:31:04.839033Z",
     "shell.execute_reply.started": "2021-10-31T02:07:01.148675Z"
    },
    "papermill": {
     "duration": 0.050733,
     "end_time": "2021-10-31T02:31:04.839659",
     "exception": false,
     "start_time": "2021-10-31T02:31:04.788926",
     "status": "completed"
    },
    "tags": []
   },
   "outputs": [],
   "source": [
    "test_df = test_df.apply(pd.to_numeric)"
   ]
  },
  {
   "cell_type": "code",
   "execution_count": 36,
   "id": "8d85caec",
   "metadata": {
    "execution": {
     "iopub.execute_input": "2021-10-31T02:31:04.928108Z",
     "iopub.status.busy": "2021-10-31T02:31:04.927156Z",
     "iopub.status.idle": "2021-10-31T02:31:04.931309Z",
     "shell.execute_reply": "2021-10-31T02:31:04.930838Z",
     "shell.execute_reply.started": "2021-10-31T02:07:24.64904Z"
    },
    "papermill": {
     "duration": 0.051045,
     "end_time": "2021-10-31T02:31:04.931438",
     "exception": false,
     "start_time": "2021-10-31T02:31:04.880393",
     "status": "completed"
    },
    "tags": []
   },
   "outputs": [
    {
     "data": {
      "text/plain": [
       "PassengerId      int64\n",
       "Survived         int64\n",
       "Pclass           int64\n",
       "Sex              int64\n",
       "SibSp            int64\n",
       "Parch            int64\n",
       "Embarked         int64\n",
       "AgeGroup       float64\n",
       "Title            int64\n",
       "FareBand         int64\n",
       "dtype: object"
      ]
     },
     "execution_count": 36,
     "metadata": {},
     "output_type": "execute_result"
    }
   ],
   "source": [
    "train_df.dtypes"
   ]
  },
  {
   "cell_type": "markdown",
   "id": "5d00548e",
   "metadata": {
    "papermill": {
     "duration": 0.04192,
     "end_time": "2021-10-31T02:31:05.016076",
     "exception": false,
     "start_time": "2021-10-31T02:31:04.974156",
     "status": "completed"
    },
    "tags": []
   },
   "source": [
    "**6. Choosing the Best Model**"
   ]
  },
  {
   "cell_type": "code",
   "execution_count": 37,
   "id": "2ae4d369",
   "metadata": {
    "execution": {
     "iopub.execute_input": "2021-10-31T02:31:05.102220Z",
     "iopub.status.busy": "2021-10-31T02:31:05.101595Z",
     "iopub.status.idle": "2021-10-31T02:31:05.282344Z",
     "shell.execute_reply": "2021-10-31T02:31:05.281681Z",
     "shell.execute_reply.started": "2021-10-31T02:07:42.410903Z"
    },
    "papermill": {
     "duration": 0.224969,
     "end_time": "2021-10-31T02:31:05.282501",
     "exception": false,
     "start_time": "2021-10-31T02:31:05.057532",
     "status": "completed"
    },
    "tags": []
   },
   "outputs": [],
   "source": [
    "#Split the dataset into 80% training and 20% testing\n",
    "from sklearn.model_selection import train_test_split\n",
    "\n",
    "X = train_df.drop(['Survived', 'PassengerId'], axis = 1)\n",
    "Y = train_df['Survived']\n",
    "X_train, X_val, Y_train, Y_val = train_test_split(X, Y, test_size = 0.2, random_state = 0)"
   ]
  },
  {
   "cell_type": "code",
   "execution_count": 38,
   "id": "df7a4f9c",
   "metadata": {
    "execution": {
     "iopub.execute_input": "2021-10-31T02:31:05.376000Z",
     "iopub.status.busy": "2021-10-31T02:31:05.375302Z",
     "iopub.status.idle": "2021-10-31T02:31:05.645328Z",
     "shell.execute_reply": "2021-10-31T02:31:05.644791Z",
     "shell.execute_reply.started": "2021-10-31T02:08:38.380354Z"
    },
    "papermill": {
     "duration": 0.320911,
     "end_time": "2021-10-31T02:31:05.645466",
     "exception": false,
     "start_time": "2021-10-31T02:31:05.324555",
     "status": "completed"
    },
    "tags": []
   },
   "outputs": [],
   "source": [
    "#Build Machine Learning Models:\n",
    "#1. Logistic Regression\n",
    "from sklearn.linear_model import LogisticRegression\n",
    "lr = LogisticRegression()\n",
    "\n",
    "#2. Support Vector Machines\n",
    "from sklearn.svm import SVC\n",
    "svc_lin = SVC(kernel = 'linear', random_state = 0)\n",
    "\n",
    "#3. Support Vector Machines\n",
    "svc_rbf = SVC(kernel = 'rbf', random_state = 0)\n",
    "\n",
    "#4. Random Forest Classifier\n",
    "from sklearn.ensemble import RandomForestClassifier\n",
    "rf = RandomForestClassifier(n_estimators = 10, criterion = 'entropy', random_state = 0)\n",
    "\n",
    "#5.  KNearest Neighbors Classifier\n",
    "from sklearn.neighbors import KNeighborsClassifier\n",
    "knn = KNeighborsClassifier(n_neighbors = 5, metric = 'minkowski', p = 2)\n",
    "\n",
    "#6. Gaussian Naive Bayes\n",
    "from sklearn.naive_bayes import GaussianNB\n",
    "gnb = GaussianNB()\n",
    "\n",
    "#7. Decision Tree Classifier\n",
    "from sklearn.tree import DecisionTreeClassifier\n",
    "dt = DecisionTreeClassifier(criterion = 'entropy', random_state = 0)\n",
    "\n",
    "#8. Gradient Boosting Classifier\n",
    "from sklearn.ensemble import GradientBoostingClassifier\n",
    "gbc = GradientBoostingClassifier(n_estimators = 100 , random_state = 1 )\n",
    "\n",
    "#9. AdaBoost Classifier\n",
    "from sklearn.ensemble import AdaBoostClassifier\n",
    "abc = AdaBoostClassifier(n_estimators=50, learning_rate=1)\n",
    "\n",
    "#10. Extra Trees Classifier\n",
    "from sklearn.ensemble import ExtraTreesClassifier\n",
    "etc = ExtraTreesClassifier(n_estimators=500, random_state=42, max_features=1., min_weight_fraction_leaf=0.5, criterion='gini')\n",
    "\n",
    "#11. XGB Classifier\n",
    "from xgboost import XGBClassifier\n",
    "xgbc = XGBClassifier(objective=\"binary:logistic\", random_state=42)\n",
    "\n",
    "#List of all the models with their indices\n",
    "modelNames = [\"Logistic Regression\", \"SVC Linear\", \"SVCRBF\", \"Random Forest Classifier\", \"KNN Classifier\", \"Gaussian NaiveBayes\", \"Decision Tree\",\n",
    "              \"Gradien Boosting Classifier\", \"AdaBoost Classifier\", \"Extra Trees Classifier\", \"XGG Classifier\"]\n",
    "models = [lr, svc_lin, svc_rbf, rf, knn, gnb, dt, gbc, abc, etc, xgbc]\n",
    "\n"
   ]
  },
  {
   "cell_type": "code",
   "execution_count": 39,
   "id": "5784dbaf",
   "metadata": {
    "execution": {
     "iopub.execute_input": "2021-10-31T02:31:05.731351Z",
     "iopub.status.busy": "2021-10-31T02:31:05.730742Z",
     "iopub.status.idle": "2021-10-31T02:31:06.798917Z",
     "shell.execute_reply": "2021-10-31T02:31:06.798324Z",
     "shell.execute_reply.started": "2021-10-31T02:09:42.97628Z"
    },
    "papermill": {
     "duration": 1.112248,
     "end_time": "2021-10-31T02:31:06.799055",
     "exception": false,
     "start_time": "2021-10-31T02:31:05.686807",
     "status": "completed"
    },
    "tags": []
   },
   "outputs": [
    {
     "name": "stdout",
     "output_type": "stream",
     "text": [
      "[02:31:06] WARNING: ../src/learner.cc:1095: Starting in XGBoost 1.3.0, the default evaluation metric used with the objective 'binary:logistic' was changed from 'error' to 'logloss'. Explicitly set eval_metric if you'd like to restore the old behavior.\n",
      "Training Accuracy of the Classifiers:\n"
     ]
    },
    {
     "data": {
      "text/html": [
       "<div>\n",
       "<style scoped>\n",
       "    .dataframe tbody tr th:only-of-type {\n",
       "        vertical-align: middle;\n",
       "    }\n",
       "\n",
       "    .dataframe tbody tr th {\n",
       "        vertical-align: top;\n",
       "    }\n",
       "\n",
       "    .dataframe thead th {\n",
       "        text-align: right;\n",
       "    }\n",
       "</style>\n",
       "<table border=\"1\" class=\"dataframe\">\n",
       "  <thead>\n",
       "    <tr style=\"text-align: right;\">\n",
       "      <th></th>\n",
       "      <th>trainAccuracy</th>\n",
       "    </tr>\n",
       "  </thead>\n",
       "  <tbody>\n",
       "    <tr>\n",
       "      <th>Decision Tree</th>\n",
       "      <td>89.89</td>\n",
       "    </tr>\n",
       "    <tr>\n",
       "      <th>Random Forest Classifier</th>\n",
       "      <td>89.19</td>\n",
       "    </tr>\n",
       "    <tr>\n",
       "      <th>XGG Classifier</th>\n",
       "      <td>89.19</td>\n",
       "    </tr>\n",
       "    <tr>\n",
       "      <th>KNN Classifier</th>\n",
       "      <td>85.25</td>\n",
       "    </tr>\n",
       "    <tr>\n",
       "      <th>Gradien Boosting Classifier</th>\n",
       "      <td>85.25</td>\n",
       "    </tr>\n",
       "    <tr>\n",
       "      <th>SVCRBF</th>\n",
       "      <td>83.71</td>\n",
       "    </tr>\n",
       "    <tr>\n",
       "      <th>Logistic Regression</th>\n",
       "      <td>82.58</td>\n",
       "    </tr>\n",
       "    <tr>\n",
       "      <th>SVC Linear</th>\n",
       "      <td>82.16</td>\n",
       "    </tr>\n",
       "    <tr>\n",
       "      <th>AdaBoost Classifier</th>\n",
       "      <td>82.02</td>\n",
       "    </tr>\n",
       "    <tr>\n",
       "      <th>Gaussian NaiveBayes</th>\n",
       "      <td>80.90</td>\n",
       "    </tr>\n",
       "    <tr>\n",
       "      <th>Extra Trees Classifier</th>\n",
       "      <td>61.66</td>\n",
       "    </tr>\n",
       "  </tbody>\n",
       "</table>\n",
       "</div>"
      ],
      "text/plain": [
       "                             trainAccuracy\n",
       "Decision Tree                        89.89\n",
       "Random Forest Classifier             89.19\n",
       "XGG Classifier                       89.19\n",
       "KNN Classifier                       85.25\n",
       "Gradien Boosting Classifier          85.25\n",
       "SVCRBF                               83.71\n",
       "Logistic Regression                  82.58\n",
       "SVC Linear                           82.16\n",
       "AdaBoost Classifier                  82.02\n",
       "Gaussian NaiveBayes                  80.90\n",
       "Extra Trees Classifier               61.66"
      ]
     },
     "metadata": {},
     "output_type": "display_data"
    }
   ],
   "source": [
    "#Create a function that returns train accuracy of different models.\n",
    "def calculateTrainAccuracy(model):\n",
    "    #Returns training accuracy of a model\n",
    "    \n",
    "    model.fit(X_train, Y_train)\n",
    "    trainAccuracy = model.score(X_train, Y_train)\n",
    "    trainAccuracy = round(trainAccuracy*100, 2)\n",
    "    return trainAccuracy\n",
    "\n",
    "# Calculate train accuracy of all the models and store them in a dataframe\n",
    "modelScores = list(map(calculateTrainAccuracy, models))\n",
    "trainAccuracy = pd.DataFrame(modelScores, columns = [\"trainAccuracy\"], index=modelNames)\n",
    "trainAccuracySorted = trainAccuracy.sort_values(by=\"trainAccuracy\", ascending=False)\n",
    "print(\"Training Accuracy of the Classifiers:\")\n",
    "display(trainAccuracySorted)"
   ]
  },
  {
   "cell_type": "code",
   "execution_count": 40,
   "id": "c7f151c3",
   "metadata": {
    "execution": {
     "iopub.execute_input": "2021-10-31T02:31:06.891057Z",
     "iopub.status.busy": "2021-10-31T02:31:06.886133Z",
     "iopub.status.idle": "2021-10-31T02:31:07.072838Z",
     "shell.execute_reply": "2021-10-31T02:31:07.073572Z",
     "shell.execute_reply.started": "2021-10-31T02:11:00.90911Z"
    },
    "papermill": {
     "duration": 0.232604,
     "end_time": "2021-10-31T02:31:07.073827",
     "exception": false,
     "start_time": "2021-10-31T02:31:06.841223",
     "status": "completed"
    },
    "tags": []
   },
   "outputs": [
    {
     "name": "stdout",
     "output_type": "stream",
     "text": [
      "[[89 21]\n",
      " [17 52]]\n",
      "Model Logistic Regression Validation Accuracy = \"0.7877094972067039\"\n",
      "\n",
      "[[87 23]\n",
      " [16 53]]\n",
      "Model SVC Linear Validation Accuracy = \"0.7821229050279329\"\n",
      "\n",
      "[[96 14]\n",
      " [17 52]]\n",
      "Model SVCRBF Validation Accuracy = \"0.8268156424581006\"\n",
      "\n",
      "[[94 16]\n",
      " [14 55]]\n",
      "Model Random Forest Classifier Validation Accuracy = \"0.8324022346368715\"\n",
      "\n",
      "[[96 14]\n",
      " [17 52]]\n",
      "Model KNN Classifier Validation Accuracy = \"0.8268156424581006\"\n",
      "\n",
      "[[86 24]\n",
      " [16 53]]\n",
      "Model Gaussian NaiveBayes Validation Accuracy = \"0.776536312849162\"\n",
      "\n",
      "[[98 12]\n",
      " [17 52]]\n",
      "Model Decision Tree Validation Accuracy = \"0.8379888268156425\"\n",
      "\n",
      "[[97 13]\n",
      " [19 50]]\n",
      "Model Gradien Boosting Classifier Validation Accuracy = \"0.8212290502793296\"\n",
      "\n",
      "[[95 15]\n",
      " [17 52]]\n",
      "Model AdaBoost Classifier Validation Accuracy = \"0.8212290502793296\"\n",
      "\n",
      "[[110   0]\n",
      " [ 69   0]]\n",
      "Model Extra Trees Classifier Validation Accuracy = \"0.6145251396648045\"\n",
      "\n",
      "[[99 11]\n",
      " [15 54]]\n",
      "Model XGG Classifier Validation Accuracy = \"0.8547486033519553\"\n",
      "\n"
     ]
    }
   ],
   "source": [
    "#Show the confusion matrix and accuracy for all of the models on the valuate data\n",
    "from sklearn.metrics import confusion_matrix\n",
    "\n",
    "for i in range(len(models)):\n",
    "  cm = confusion_matrix(Y_val, models[i].predict(X_val))\n",
    "\n",
    "  #Extract TN, FP, FN, TP\n",
    "  TN, FP, FN, TP = confusion_matrix(Y_val, models[i].predict(X_val)).ravel()\n",
    "\n",
    "  test_score = (TP + TN) / (TP + TN + FN +FP)\n",
    "\n",
    "  print(cm)\n",
    "  print('Model {} Validation Accuracy = \"{}\"'.format(modelNames[i], test_score))\n",
    "  print()"
   ]
  },
  {
   "cell_type": "markdown",
   "id": "5abc8a6f",
   "metadata": {
    "papermill": {
     "duration": 0.043052,
     "end_time": "2021-10-31T02:31:07.160213",
     "exception": false,
     "start_time": "2021-10-31T02:31:07.117161",
     "status": "completed"
    },
    "tags": []
   },
   "source": [
    "I decided to use the Decision Tree Classifier model for the testing data"
   ]
  },
  {
   "cell_type": "markdown",
   "id": "ebd28410",
   "metadata": {
    "papermill": {
     "duration": 0.042961,
     "end_time": "2021-10-31T02:31:07.246093",
     "exception": false,
     "start_time": "2021-10-31T02:31:07.203132",
     "status": "completed"
    },
    "tags": []
   },
   "source": [
    "**7. Creating Submission File**"
   ]
  },
  {
   "cell_type": "code",
   "execution_count": 41,
   "id": "b14626ba",
   "metadata": {
    "execution": {
     "iopub.execute_input": "2021-10-31T02:31:07.344470Z",
     "iopub.status.busy": "2021-10-31T02:31:07.343853Z",
     "iopub.status.idle": "2021-10-31T02:31:07.349930Z",
     "shell.execute_reply": "2021-10-31T02:31:07.350352Z",
     "shell.execute_reply.started": "2021-10-31T02:15:06.686925Z"
    },
    "papermill": {
     "duration": 0.059517,
     "end_time": "2021-10-31T02:31:07.350539",
     "exception": false,
     "start_time": "2021-10-31T02:31:07.291022",
     "status": "completed"
    },
    "tags": []
   },
   "outputs": [],
   "source": [
    "#set ids as PassengerId and predict survival \n",
    "ids = test_df['PassengerId']\n",
    "predictions = dt.predict(test_df.drop('PassengerId', axis=1))\n",
    "\n",
    "#set the output as a dataframe and convert to csv file named submission.csv\n",
    "output = pd.DataFrame({ 'PassengerId' : ids, 'Survived': predictions})\n",
    "output.to_csv('submission.csv', index=False)"
   ]
  },
  {
   "cell_type": "markdown",
   "id": "bd1b6e38",
   "metadata": {
    "papermill": {
     "duration": 0.043322,
     "end_time": "2021-10-31T02:31:07.437697",
     "exception": false,
     "start_time": "2021-10-31T02:31:07.394375",
     "status": "completed"
    },
    "tags": []
   },
   "source": [
    "Sources:\n",
    "- https://www.kaggle.com/nadintamer/titanic-survival-predictions-beginner/notebook\n",
    "- https://www.kaggle.com/eraaz1/a-comprehensive-guide-to-titanic-machine-learning\n",
    "- https://www.youtube.com/watch?v=rODWw2_1mCI&t=5675s"
   ]
  },
  {
   "cell_type": "markdown",
   "id": "04087310",
   "metadata": {
    "papermill": {
     "duration": 0.043704,
     "end_time": "2021-10-31T02:31:07.524596",
     "exception": false,
     "start_time": "2021-10-31T02:31:07.480892",
     "status": "completed"
    },
    "tags": []
   },
   "source": []
  }
 ],
 "metadata": {
  "kernelspec": {
   "display_name": "Python 3",
   "language": "python",
   "name": "python3"
  },
  "language_info": {
   "codemirror_mode": {
    "name": "ipython",
    "version": 3
   },
   "file_extension": ".py",
   "mimetype": "text/x-python",
   "name": "python",
   "nbconvert_exporter": "python",
   "pygments_lexer": "ipython3",
   "version": "3.7.10"
  },
  "papermill": {
   "default_parameters": {},
   "duration": 20.465695,
   "end_time": "2021-10-31T02:31:08.277581",
   "environment_variables": {},
   "exception": null,
   "input_path": "__notebook__.ipynb",
   "output_path": "__notebook__.ipynb",
   "parameters": {},
   "start_time": "2021-10-31T02:30:47.811886",
   "version": "2.3.3"
  }
 },
 "nbformat": 4,
 "nbformat_minor": 5
}
